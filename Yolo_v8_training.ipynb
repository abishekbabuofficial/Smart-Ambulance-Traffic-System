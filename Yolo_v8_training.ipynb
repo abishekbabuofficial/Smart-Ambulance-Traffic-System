{
  "nbformat": 4,
  "nbformat_minor": 0,
  "metadata": {
    "colab": {
      "provenance": [],
      "gpuType": "T4",
      "include_colab_link": true
    },
    "kernelspec": {
      "name": "python3",
      "display_name": "Python 3"
    },
    "language_info": {
      "name": "python"
    },
    "accelerator": "GPU"
  },
  "cells": [
    {
      "cell_type": "markdown",
      "metadata": {
        "id": "view-in-github",
        "colab_type": "text"
      },
      "source": [
        "<a href=\"https://colab.research.google.com/github/abishekbabuofficial/Smart-Ambulance-Traffic-System/blob/main/Yolo_v8_training.ipynb\" target=\"_parent\"><img src=\"https://colab.research.google.com/assets/colab-badge.svg\" alt=\"Open In Colab\"/></a>"
      ]
    },
    {
      "cell_type": "code",
      "source": [
        "from google.colab import drive\n",
        "drive.mount('/content/gdrive',force_remount=True)"
      ],
      "metadata": {
        "id": "0dtQziUFkw2V",
        "colab": {
          "base_uri": "https://localhost:8080/"
        },
        "outputId": "d79198d3-2b87-43ac-ab6a-4aa57afd880f"
      },
      "execution_count": null,
      "outputs": [
        {
          "output_type": "stream",
          "name": "stdout",
          "text": [
            "Mounted at /content/gdrive\n"
          ]
        }
      ]
    },
    {
      "cell_type": "code",
      "source": [
        "ROOT_DIR = '/content/gdrive/MyDrive/SATS/Dataset/image_dataset'"
      ],
      "metadata": {
        "id": "gIBP1kyDnAwP"
      },
      "execution_count": null,
      "outputs": []
    },
    {
      "cell_type": "code",
      "source": [
        "ROOT_DIR = '/content/gdrive/Shareddrives/SATS/Dataset/image_dataset'"
      ],
      "metadata": {
        "id": "MAu83O7Dri2S"
      },
      "execution_count": null,
      "outputs": []
    },
    {
      "cell_type": "code",
      "source": [
        "!pip install ultralytics"
      ],
      "metadata": {
        "id": "7e6PdBFqnylw",
        "colab": {
          "base_uri": "https://localhost:8080/"
        },
        "outputId": "80440197-3683-4741-8795-dd697975d28e"
      },
      "execution_count": null,
      "outputs": [
        {
          "output_type": "stream",
          "name": "stdout",
          "text": [
            "Collecting ultralytics\n",
            "  Downloading ultralytics-8.1.9-py3-none-any.whl (709 kB)\n",
            "\u001b[?25l     \u001b[90m━━━━━━━━━━━━━━━━━━━━━━━━━━━━━━━━━━━━━━━━\u001b[0m \u001b[32m0.0/709.3 kB\u001b[0m \u001b[31m?\u001b[0m eta \u001b[36m-:--:--\u001b[0m\r\u001b[2K     \u001b[91m━━━━━━━━━━━━━\u001b[0m\u001b[91m╸\u001b[0m\u001b[90m━━━━━━━━━━━━━━━━━━━━━━━━━━\u001b[0m \u001b[32m245.8/709.3 kB\u001b[0m \u001b[31m7.7 MB/s\u001b[0m eta \u001b[36m0:00:01\u001b[0m\r\u001b[2K     \u001b[90m━━━━━━━━━━━━━━━━━━━━━━━━━━━━━━━━━━━━━━━━\u001b[0m \u001b[32m709.3/709.3 kB\u001b[0m \u001b[31m10.4 MB/s\u001b[0m eta \u001b[36m0:00:00\u001b[0m\n",
            "\u001b[?25hRequirement already satisfied: matplotlib>=3.3.0 in /usr/local/lib/python3.10/dist-packages (from ultralytics) (3.7.1)\n",
            "Requirement already satisfied: numpy>=1.22.2 in /usr/local/lib/python3.10/dist-packages (from ultralytics) (1.23.5)\n",
            "Requirement already satisfied: opencv-python>=4.6.0 in /usr/local/lib/python3.10/dist-packages (from ultralytics) (4.8.0.76)\n",
            "Requirement already satisfied: pillow>=7.1.2 in /usr/local/lib/python3.10/dist-packages (from ultralytics) (9.4.0)\n",
            "Requirement already satisfied: pyyaml>=5.3.1 in /usr/local/lib/python3.10/dist-packages (from ultralytics) (6.0.1)\n",
            "Requirement already satisfied: requests>=2.23.0 in /usr/local/lib/python3.10/dist-packages (from ultralytics) (2.31.0)\n",
            "Requirement already satisfied: scipy>=1.4.1 in /usr/local/lib/python3.10/dist-packages (from ultralytics) (1.11.4)\n",
            "Requirement already satisfied: torch>=1.8.0 in /usr/local/lib/python3.10/dist-packages (from ultralytics) (2.1.0+cu121)\n",
            "Requirement already satisfied: torchvision>=0.9.0 in /usr/local/lib/python3.10/dist-packages (from ultralytics) (0.16.0+cu121)\n",
            "Requirement already satisfied: tqdm>=4.64.0 in /usr/local/lib/python3.10/dist-packages (from ultralytics) (4.66.1)\n",
            "Requirement already satisfied: psutil in /usr/local/lib/python3.10/dist-packages (from ultralytics) (5.9.5)\n",
            "Requirement already satisfied: py-cpuinfo in /usr/local/lib/python3.10/dist-packages (from ultralytics) (9.0.0)\n",
            "Collecting thop>=0.1.1 (from ultralytics)\n",
            "  Downloading thop-0.1.1.post2209072238-py3-none-any.whl (15 kB)\n",
            "Requirement already satisfied: pandas>=1.1.4 in /usr/local/lib/python3.10/dist-packages (from ultralytics) (1.5.3)\n",
            "Requirement already satisfied: seaborn>=0.11.0 in /usr/local/lib/python3.10/dist-packages (from ultralytics) (0.13.1)\n",
            "Requirement already satisfied: contourpy>=1.0.1 in /usr/local/lib/python3.10/dist-packages (from matplotlib>=3.3.0->ultralytics) (1.2.0)\n",
            "Requirement already satisfied: cycler>=0.10 in /usr/local/lib/python3.10/dist-packages (from matplotlib>=3.3.0->ultralytics) (0.12.1)\n",
            "Requirement already satisfied: fonttools>=4.22.0 in /usr/local/lib/python3.10/dist-packages (from matplotlib>=3.3.0->ultralytics) (4.47.2)\n",
            "Requirement already satisfied: kiwisolver>=1.0.1 in /usr/local/lib/python3.10/dist-packages (from matplotlib>=3.3.0->ultralytics) (1.4.5)\n",
            "Requirement already satisfied: packaging>=20.0 in /usr/local/lib/python3.10/dist-packages (from matplotlib>=3.3.0->ultralytics) (23.2)\n",
            "Requirement already satisfied: pyparsing>=2.3.1 in /usr/local/lib/python3.10/dist-packages (from matplotlib>=3.3.0->ultralytics) (3.1.1)\n",
            "Requirement already satisfied: python-dateutil>=2.7 in /usr/local/lib/python3.10/dist-packages (from matplotlib>=3.3.0->ultralytics) (2.8.2)\n",
            "Requirement already satisfied: pytz>=2020.1 in /usr/local/lib/python3.10/dist-packages (from pandas>=1.1.4->ultralytics) (2023.4)\n",
            "Requirement already satisfied: charset-normalizer<4,>=2 in /usr/local/lib/python3.10/dist-packages (from requests>=2.23.0->ultralytics) (3.3.2)\n",
            "Requirement already satisfied: idna<4,>=2.5 in /usr/local/lib/python3.10/dist-packages (from requests>=2.23.0->ultralytics) (3.6)\n",
            "Requirement already satisfied: urllib3<3,>=1.21.1 in /usr/local/lib/python3.10/dist-packages (from requests>=2.23.0->ultralytics) (2.0.7)\n",
            "Requirement already satisfied: certifi>=2017.4.17 in /usr/local/lib/python3.10/dist-packages (from requests>=2.23.0->ultralytics) (2023.11.17)\n",
            "Requirement already satisfied: filelock in /usr/local/lib/python3.10/dist-packages (from torch>=1.8.0->ultralytics) (3.13.1)\n",
            "Requirement already satisfied: typing-extensions in /usr/local/lib/python3.10/dist-packages (from torch>=1.8.0->ultralytics) (4.5.0)\n",
            "Requirement already satisfied: sympy in /usr/local/lib/python3.10/dist-packages (from torch>=1.8.0->ultralytics) (1.12)\n",
            "Requirement already satisfied: networkx in /usr/local/lib/python3.10/dist-packages (from torch>=1.8.0->ultralytics) (3.2.1)\n",
            "Requirement already satisfied: jinja2 in /usr/local/lib/python3.10/dist-packages (from torch>=1.8.0->ultralytics) (3.1.3)\n",
            "Requirement already satisfied: fsspec in /usr/local/lib/python3.10/dist-packages (from torch>=1.8.0->ultralytics) (2023.6.0)\n",
            "Requirement already satisfied: triton==2.1.0 in /usr/local/lib/python3.10/dist-packages (from torch>=1.8.0->ultralytics) (2.1.0)\n",
            "Requirement already satisfied: six>=1.5 in /usr/local/lib/python3.10/dist-packages (from python-dateutil>=2.7->matplotlib>=3.3.0->ultralytics) (1.16.0)\n",
            "Requirement already satisfied: MarkupSafe>=2.0 in /usr/local/lib/python3.10/dist-packages (from jinja2->torch>=1.8.0->ultralytics) (2.1.4)\n",
            "Requirement already satisfied: mpmath>=0.19 in /usr/local/lib/python3.10/dist-packages (from sympy->torch>=1.8.0->ultralytics) (1.3.0)\n",
            "Installing collected packages: thop, ultralytics\n",
            "Successfully installed thop-0.1.1.post2209072238 ultralytics-8.1.9\n"
          ]
        }
      ]
    },
    {
      "cell_type": "code",
      "source": [
        "!pip3 install Cython"
      ],
      "metadata": {
        "colab": {
          "base_uri": "https://localhost:8080/"
        },
        "id": "5AwMXeiHo0ur",
        "outputId": "55296c8c-f11b-4335-a3b0-e21808b3f9d0"
      },
      "execution_count": null,
      "outputs": [
        {
          "output_type": "stream",
          "name": "stdout",
          "text": [
            "Requirement already satisfied: Cython in /usr/local/lib/python3.10/dist-packages (3.0.8)\n"
          ]
        }
      ]
    },
    {
      "cell_type": "code",
      "source": [
        "import os\n",
        "from ultralytics import YOLO\n",
        "\n",
        "model = YOLO(model = '/content/gdrive/MyDrive/SATS/Dataset/image_dataset/yolov8m.pt')\n",
        "\n",
        "results = model.train(data = os.path.join(ROOT_DIR, \"data.yaml\"), epochs = 100,imgsz = 640, batch = 8, patience=120 )\n"
      ],
      "metadata": {
        "id": "SiA3fcQ8n1Kv",
        "colab": {
          "base_uri": "https://localhost:8080/"
        },
        "outputId": "9ff16c9e-4b30-4aa2-e54f-c1939e4dfe32"
      },
      "execution_count": null,
      "outputs": [
        {
          "output_type": "stream",
          "name": "stdout",
          "text": [
            "Ultralytics YOLOv8.1.9 🚀 Python-3.10.12 torch-2.1.0+cu121 CUDA:0 (Tesla T4, 15102MiB)\n",
            "\u001b[34m\u001b[1mengine/trainer: \u001b[0mtask=detect, mode=train, model=/content/gdrive/MyDrive/SATS/Dataset/image_dataset/yolov8m.pt, data=/content/gdrive/MyDrive/SATS/Dataset/image_dataset/data.yaml, epochs=100, time=None, patience=120, batch=8, imgsz=640, save=True, save_period=-1, cache=False, device=None, workers=8, project=None, name=train, exist_ok=False, pretrained=True, optimizer=auto, verbose=True, seed=0, deterministic=True, single_cls=False, rect=False, cos_lr=False, close_mosaic=10, resume=False, amp=True, fraction=1.0, profile=False, freeze=None, multi_scale=False, overlap_mask=True, mask_ratio=4, dropout=0.0, val=True, split=val, save_json=False, save_hybrid=False, conf=None, iou=0.7, max_det=300, half=False, dnn=False, plots=True, source=None, vid_stride=1, stream_buffer=False, visualize=False, augment=False, agnostic_nms=False, classes=None, retina_masks=False, embed=None, show=False, save_frames=False, save_txt=False, save_conf=False, save_crop=False, show_labels=True, show_conf=True, show_boxes=True, line_width=None, format=torchscript, keras=False, optimize=False, int8=False, dynamic=False, simplify=False, opset=None, workspace=4, nms=False, lr0=0.01, lrf=0.01, momentum=0.937, weight_decay=0.0005, warmup_epochs=3.0, warmup_momentum=0.8, warmup_bias_lr=0.1, box=7.5, cls=0.5, dfl=1.5, pose=12.0, kobj=1.0, label_smoothing=0.0, nbs=64, hsv_h=0.015, hsv_s=0.7, hsv_v=0.4, degrees=0.0, translate=0.1, scale=0.5, shear=0.0, perspective=0.0, flipud=0.0, fliplr=0.5, mosaic=1.0, mixup=0.0, copy_paste=0.0, auto_augment=randaugment, erasing=0.4, crop_fraction=1.0, cfg=None, tracker=botsort.yaml, save_dir=runs/detect/train\n",
            "Downloading https://ultralytics.com/assets/Arial.ttf to '/root/.config/Ultralytics/Arial.ttf'...\n"
          ]
        },
        {
          "output_type": "stream",
          "name": "stderr",
          "text": [
            "100%|██████████| 755k/755k [00:00<00:00, 39.0MB/s]\n"
          ]
        },
        {
          "output_type": "stream",
          "name": "stdout",
          "text": [
            "Overriding model.yaml nc=80 with nc=2\n",
            "\n",
            "                   from  n    params  module                                       arguments                     \n",
            "  0                  -1  1      1392  ultralytics.nn.modules.conv.Conv             [3, 48, 3, 2]                 \n",
            "  1                  -1  1     41664  ultralytics.nn.modules.conv.Conv             [48, 96, 3, 2]                \n",
            "  2                  -1  2    111360  ultralytics.nn.modules.block.C2f             [96, 96, 2, True]             \n",
            "  3                  -1  1    166272  ultralytics.nn.modules.conv.Conv             [96, 192, 3, 2]               \n",
            "  4                  -1  4    813312  ultralytics.nn.modules.block.C2f             [192, 192, 4, True]           \n",
            "  5                  -1  1    664320  ultralytics.nn.modules.conv.Conv             [192, 384, 3, 2]              \n",
            "  6                  -1  4   3248640  ultralytics.nn.modules.block.C2f             [384, 384, 4, True]           \n",
            "  7                  -1  1   1991808  ultralytics.nn.modules.conv.Conv             [384, 576, 3, 2]              \n",
            "  8                  -1  2   3985920  ultralytics.nn.modules.block.C2f             [576, 576, 2, True]           \n",
            "  9                  -1  1    831168  ultralytics.nn.modules.block.SPPF            [576, 576, 5]                 \n",
            " 10                  -1  1         0  torch.nn.modules.upsampling.Upsample         [None, 2, 'nearest']          \n",
            " 11             [-1, 6]  1         0  ultralytics.nn.modules.conv.Concat           [1]                           \n",
            " 12                  -1  2   1993728  ultralytics.nn.modules.block.C2f             [960, 384, 2]                 \n",
            " 13                  -1  1         0  torch.nn.modules.upsampling.Upsample         [None, 2, 'nearest']          \n",
            " 14             [-1, 4]  1         0  ultralytics.nn.modules.conv.Concat           [1]                           \n",
            " 15                  -1  2    517632  ultralytics.nn.modules.block.C2f             [576, 192, 2]                 \n",
            " 16                  -1  1    332160  ultralytics.nn.modules.conv.Conv             [192, 192, 3, 2]              \n",
            " 17            [-1, 12]  1         0  ultralytics.nn.modules.conv.Concat           [1]                           \n",
            " 18                  -1  2   1846272  ultralytics.nn.modules.block.C2f             [576, 384, 2]                 \n",
            " 19                  -1  1   1327872  ultralytics.nn.modules.conv.Conv             [384, 384, 3, 2]              \n",
            " 20             [-1, 9]  1         0  ultralytics.nn.modules.conv.Concat           [1]                           \n",
            " 21                  -1  2   4207104  ultralytics.nn.modules.block.C2f             [960, 576, 2]                 \n",
            " 22        [15, 18, 21]  1   3776854  ultralytics.nn.modules.head.Detect           [2, [192, 384, 576]]          \n",
            "Model summary: 295 layers, 25857478 parameters, 25857462 gradients, 79.1 GFLOPs\n",
            "\n",
            "Transferred 469/475 items from pretrained weights\n",
            "\u001b[34m\u001b[1mTensorBoard: \u001b[0mStart with 'tensorboard --logdir runs/detect/train', view at http://localhost:6006/\n",
            "Freezing layer 'model.22.dfl.conv.weight'\n",
            "\u001b[34m\u001b[1mAMP: \u001b[0mrunning Automatic Mixed Precision (AMP) checks with YOLOv8n...\n",
            "Downloading https://github.com/ultralytics/assets/releases/download/v8.1.0/yolov8n.pt to 'yolov8n.pt'...\n"
          ]
        },
        {
          "output_type": "stream",
          "name": "stderr",
          "text": [
            "100%|██████████| 6.23M/6.23M [00:00<00:00, 174MB/s]\n"
          ]
        },
        {
          "output_type": "stream",
          "name": "stdout",
          "text": [
            "\u001b[34m\u001b[1mAMP: \u001b[0mchecks passed ✅\n"
          ]
        },
        {
          "output_type": "stream",
          "name": "stderr",
          "text": [
            "\u001b[34m\u001b[1mtrain: \u001b[0mScanning /content/gdrive/.shortcut-targets-by-id/1jotXDR-c2-CHBcVbzi7suq-92GlrFwZt/SATS/Dataset/image_dataset/train/labels... 260 images, 0 backgrounds, 0 corrupt: 100%|██████████| 260/260 [02:33<00:00,  1.69it/s]\n"
          ]
        },
        {
          "output_type": "stream",
          "name": "stdout",
          "text": [
            "\u001b[34m\u001b[1mtrain: \u001b[0mNew cache created: /content/gdrive/.shortcut-targets-by-id/1jotXDR-c2-CHBcVbzi7suq-92GlrFwZt/SATS/Dataset/image_dataset/train/labels.cache\n",
            "\u001b[34m\u001b[1malbumentations: \u001b[0mBlur(p=0.01, blur_limit=(3, 7)), MedianBlur(p=0.01, blur_limit=(3, 7)), ToGray(p=0.01), CLAHE(p=0.01, clip_limit=(1, 4.0), tile_grid_size=(8, 8))\n"
          ]
        },
        {
          "output_type": "stream",
          "name": "stderr",
          "text": [
            "\u001b[34m\u001b[1mval: \u001b[0mScanning /content/gdrive/.shortcut-targets-by-id/1jotXDR-c2-CHBcVbzi7suq-92GlrFwZt/SATS/Dataset/image_dataset/valid/labels... 29 images, 0 backgrounds, 0 corrupt: 100%|██████████| 29/29 [00:35<00:00,  1.21s/it]"
          ]
        },
        {
          "output_type": "stream",
          "name": "stdout",
          "text": [
            "\u001b[34m\u001b[1mval: \u001b[0mNew cache created: /content/gdrive/.shortcut-targets-by-id/1jotXDR-c2-CHBcVbzi7suq-92GlrFwZt/SATS/Dataset/image_dataset/valid/labels.cache\n"
          ]
        },
        {
          "output_type": "stream",
          "name": "stderr",
          "text": [
            "\n"
          ]
        },
        {
          "output_type": "stream",
          "name": "stdout",
          "text": [
            "Plotting labels to runs/detect/train/labels.jpg... \n",
            "\u001b[34m\u001b[1moptimizer:\u001b[0m 'optimizer=auto' found, ignoring 'lr0=0.01' and 'momentum=0.937' and determining best 'optimizer', 'lr0' and 'momentum' automatically... \n",
            "\u001b[34m\u001b[1moptimizer:\u001b[0m AdamW(lr=0.001667, momentum=0.9) with parameter groups 77 weight(decay=0.0), 84 weight(decay=0.0005), 83 bias(decay=0.0)\n",
            "\u001b[34m\u001b[1mTensorBoard: \u001b[0mmodel graph visualization added ✅\n",
            "Image sizes 640 train, 640 val\n",
            "Using 2 dataloader workers\n",
            "Logging results to \u001b[1mruns/detect/train\u001b[0m\n",
            "Starting training for 100 epochs...\n",
            "\n",
            "      Epoch    GPU_mem   box_loss   cls_loss   dfl_loss  Instances       Size\n"
          ]
        },
        {
          "output_type": "stream",
          "name": "stderr",
          "text": [
            "      1/100      3.79G      1.619      2.257      1.867         12        640: 100%|██████████| 33/33 [00:13<00:00,  2.44it/s]\n",
            "                 Class     Images  Instances      Box(P          R      mAP50  mAP50-95): 100%|██████████| 2/2 [00:01<00:00,  1.07it/s]"
          ]
        },
        {
          "output_type": "stream",
          "name": "stdout",
          "text": [
            "                   all         29         40      0.479      0.618      0.541      0.228\n"
          ]
        },
        {
          "output_type": "stream",
          "name": "stderr",
          "text": [
            "\n"
          ]
        },
        {
          "output_type": "stream",
          "name": "stdout",
          "text": [
            "\n",
            "      Epoch    GPU_mem   box_loss   cls_loss   dfl_loss  Instances       Size\n"
          ]
        },
        {
          "output_type": "stream",
          "name": "stderr",
          "text": [
            "      2/100      3.93G      1.693       2.05      1.899         20        640: 100%|██████████| 33/33 [00:10<00:00,  3.25it/s]\n",
            "                 Class     Images  Instances      Box(P          R      mAP50  mAP50-95): 100%|██████████| 2/2 [00:00<00:00,  3.76it/s]"
          ]
        },
        {
          "output_type": "stream",
          "name": "stdout",
          "text": [
            "                   all         29         40     0.0389      0.437     0.0263    0.00781\n"
          ]
        },
        {
          "output_type": "stream",
          "name": "stderr",
          "text": [
            "\n"
          ]
        },
        {
          "output_type": "stream",
          "name": "stdout",
          "text": [
            "\n",
            "      Epoch    GPU_mem   box_loss   cls_loss   dfl_loss  Instances       Size\n"
          ]
        },
        {
          "output_type": "stream",
          "name": "stderr",
          "text": [
            "      3/100      3.96G      1.829      2.046      2.049         16        640: 100%|██████████| 33/33 [00:10<00:00,  3.23it/s]\n",
            "                 Class     Images  Instances      Box(P          R      mAP50  mAP50-95): 100%|██████████| 2/2 [00:00<00:00,  4.26it/s]"
          ]
        },
        {
          "output_type": "stream",
          "name": "stdout",
          "text": [
            "                   all         29         40     0.0119      0.298     0.0092    0.00239\n"
          ]
        },
        {
          "output_type": "stream",
          "name": "stderr",
          "text": [
            "\n"
          ]
        },
        {
          "output_type": "stream",
          "name": "stdout",
          "text": [
            "\n",
            "      Epoch    GPU_mem   box_loss   cls_loss   dfl_loss  Instances       Size\n"
          ]
        },
        {
          "output_type": "stream",
          "name": "stderr",
          "text": [
            "      4/100      3.98G      1.871      2.117      2.117         11        640: 100%|██████████| 33/33 [00:10<00:00,  3.28it/s]\n",
            "                 Class     Images  Instances      Box(P          R      mAP50  mAP50-95): 100%|██████████| 2/2 [00:00<00:00,  4.23it/s]"
          ]
        },
        {
          "output_type": "stream",
          "name": "stdout",
          "text": [
            "                   all         29         40    0.00114       0.15   0.000691   0.000139\n"
          ]
        },
        {
          "output_type": "stream",
          "name": "stderr",
          "text": [
            "\n"
          ]
        },
        {
          "output_type": "stream",
          "name": "stdout",
          "text": [
            "\n",
            "      Epoch    GPU_mem   box_loss   cls_loss   dfl_loss  Instances       Size\n"
          ]
        },
        {
          "output_type": "stream",
          "name": "stderr",
          "text": [
            "      5/100      3.96G      1.906      2.144      2.071         30        640: 100%|██████████| 33/33 [00:10<00:00,  3.29it/s]\n",
            "                 Class     Images  Instances      Box(P          R      mAP50  mAP50-95): 100%|██████████| 2/2 [00:00<00:00,  2.57it/s]"
          ]
        },
        {
          "output_type": "stream",
          "name": "stdout",
          "text": [
            "                   all         29         40   0.000873      0.151   0.000512   0.000178\n"
          ]
        },
        {
          "output_type": "stream",
          "name": "stderr",
          "text": [
            "\n"
          ]
        },
        {
          "output_type": "stream",
          "name": "stdout",
          "text": [
            "\n",
            "      Epoch    GPU_mem   box_loss   cls_loss   dfl_loss  Instances       Size\n"
          ]
        },
        {
          "output_type": "stream",
          "name": "stderr",
          "text": [
            "      6/100      3.97G      1.806      2.094      1.994         17        640: 100%|██████████| 33/33 [00:09<00:00,  3.57it/s]\n",
            "                 Class     Images  Instances      Box(P          R      mAP50  mAP50-95): 100%|██████████| 2/2 [00:00<00:00,  2.33it/s]"
          ]
        },
        {
          "output_type": "stream",
          "name": "stdout",
          "text": [
            "                   all         29         40       0.24      0.224      0.107     0.0342\n"
          ]
        },
        {
          "output_type": "stream",
          "name": "stderr",
          "text": [
            "\n"
          ]
        },
        {
          "output_type": "stream",
          "name": "stdout",
          "text": [
            "\n",
            "      Epoch    GPU_mem   box_loss   cls_loss   dfl_loss  Instances       Size\n"
          ]
        },
        {
          "output_type": "stream",
          "name": "stderr",
          "text": [
            "      7/100      3.96G      1.785      1.947       1.98         19        640: 100%|██████████| 33/33 [00:08<00:00,  3.67it/s]\n",
            "                 Class     Images  Instances      Box(P          R      mAP50  mAP50-95): 100%|██████████| 2/2 [00:00<00:00,  3.53it/s]"
          ]
        },
        {
          "output_type": "stream",
          "name": "stdout",
          "text": [
            "                   all         29         40     0.0528      0.413     0.0503     0.0147\n"
          ]
        },
        {
          "output_type": "stream",
          "name": "stderr",
          "text": [
            "\n"
          ]
        },
        {
          "output_type": "stream",
          "name": "stdout",
          "text": [
            "\n",
            "      Epoch    GPU_mem   box_loss   cls_loss   dfl_loss  Instances       Size\n"
          ]
        },
        {
          "output_type": "stream",
          "name": "stderr",
          "text": [
            "      8/100      3.97G      1.827      2.082      2.017         27        640: 100%|██████████| 33/33 [00:09<00:00,  3.40it/s]\n",
            "                 Class     Images  Instances      Box(P          R      mAP50  mAP50-95): 100%|██████████| 2/2 [00:00<00:00,  3.53it/s]"
          ]
        },
        {
          "output_type": "stream",
          "name": "stdout",
          "text": [
            "                   all         29         40     0.0726      0.148     0.0492     0.0165\n"
          ]
        },
        {
          "output_type": "stream",
          "name": "stderr",
          "text": [
            "\n"
          ]
        },
        {
          "output_type": "stream",
          "name": "stdout",
          "text": [
            "\n",
            "      Epoch    GPU_mem   box_loss   cls_loss   dfl_loss  Instances       Size\n"
          ]
        },
        {
          "output_type": "stream",
          "name": "stderr",
          "text": [
            "      9/100      3.96G      1.694      1.951      1.942         23        640: 100%|██████████| 33/33 [00:10<00:00,  3.24it/s]\n",
            "                 Class     Images  Instances      Box(P          R      mAP50  mAP50-95): 100%|██████████| 2/2 [00:00<00:00,  3.64it/s]"
          ]
        },
        {
          "output_type": "stream",
          "name": "stdout",
          "text": [
            "                   all         29         40      0.185      0.301      0.118     0.0411\n"
          ]
        },
        {
          "output_type": "stream",
          "name": "stderr",
          "text": [
            "\n"
          ]
        },
        {
          "output_type": "stream",
          "name": "stdout",
          "text": [
            "\n",
            "      Epoch    GPU_mem   box_loss   cls_loss   dfl_loss  Instances       Size\n"
          ]
        },
        {
          "output_type": "stream",
          "name": "stderr",
          "text": [
            "     10/100      3.99G      1.746      1.929       1.96         16        640: 100%|██████████| 33/33 [00:10<00:00,  3.26it/s]\n",
            "                 Class     Images  Instances      Box(P          R      mAP50  mAP50-95): 100%|██████████| 2/2 [00:00<00:00,  3.87it/s]"
          ]
        },
        {
          "output_type": "stream",
          "name": "stdout",
          "text": [
            "                   all         29         40      0.347      0.415      0.316      0.153\n"
          ]
        },
        {
          "output_type": "stream",
          "name": "stderr",
          "text": [
            "\n"
          ]
        },
        {
          "output_type": "stream",
          "name": "stdout",
          "text": [
            "\n",
            "      Epoch    GPU_mem   box_loss   cls_loss   dfl_loss  Instances       Size\n"
          ]
        },
        {
          "output_type": "stream",
          "name": "stderr",
          "text": [
            "     11/100      3.98G      1.759      1.965      1.954         14        640: 100%|██████████| 33/33 [00:09<00:00,  3.31it/s]\n",
            "                 Class     Images  Instances      Box(P          R      mAP50  mAP50-95): 100%|██████████| 2/2 [00:00<00:00,  3.17it/s]"
          ]
        },
        {
          "output_type": "stream",
          "name": "stdout",
          "text": [
            "                   all         29         40      0.182      0.381      0.203      0.102\n"
          ]
        },
        {
          "output_type": "stream",
          "name": "stderr",
          "text": [
            "\n"
          ]
        },
        {
          "output_type": "stream",
          "name": "stdout",
          "text": [
            "\n",
            "      Epoch    GPU_mem   box_loss   cls_loss   dfl_loss  Instances       Size\n"
          ]
        },
        {
          "output_type": "stream",
          "name": "stderr",
          "text": [
            "     12/100      3.97G      1.704      1.905      1.935         19        640: 100%|██████████| 33/33 [00:09<00:00,  3.37it/s]\n",
            "                 Class     Images  Instances      Box(P          R      mAP50  mAP50-95): 100%|██████████| 2/2 [00:00<00:00,  2.64it/s]"
          ]
        },
        {
          "output_type": "stream",
          "name": "stdout",
          "text": [
            "                   all         29         40      0.451      0.395      0.355      0.113\n"
          ]
        },
        {
          "output_type": "stream",
          "name": "stderr",
          "text": [
            "\n"
          ]
        },
        {
          "output_type": "stream",
          "name": "stdout",
          "text": [
            "\n",
            "      Epoch    GPU_mem   box_loss   cls_loss   dfl_loss  Instances       Size\n"
          ]
        },
        {
          "output_type": "stream",
          "name": "stderr",
          "text": [
            "     13/100      3.98G      1.674      1.774      1.929         23        640: 100%|██████████| 33/33 [00:09<00:00,  3.45it/s]\n",
            "                 Class     Images  Instances      Box(P          R      mAP50  mAP50-95): 100%|██████████| 2/2 [00:00<00:00,  2.11it/s]"
          ]
        },
        {
          "output_type": "stream",
          "name": "stdout",
          "text": [
            "                   all         29         40      0.338       0.37      0.337       0.17\n"
          ]
        },
        {
          "output_type": "stream",
          "name": "stderr",
          "text": [
            "\n"
          ]
        },
        {
          "output_type": "stream",
          "name": "stdout",
          "text": [
            "\n",
            "      Epoch    GPU_mem   box_loss   cls_loss   dfl_loss  Instances       Size\n"
          ]
        },
        {
          "output_type": "stream",
          "name": "stderr",
          "text": [
            "     14/100      3.97G       1.65      1.787       1.92         13        640: 100%|██████████| 33/33 [00:09<00:00,  3.63it/s]\n",
            "                 Class     Images  Instances      Box(P          R      mAP50  mAP50-95): 100%|██████████| 2/2 [00:00<00:00,  3.56it/s]"
          ]
        },
        {
          "output_type": "stream",
          "name": "stdout",
          "text": [
            "                   all         29         40      0.378      0.421      0.378      0.188\n"
          ]
        },
        {
          "output_type": "stream",
          "name": "stderr",
          "text": [
            "\n"
          ]
        },
        {
          "output_type": "stream",
          "name": "stdout",
          "text": [
            "\n",
            "      Epoch    GPU_mem   box_loss   cls_loss   dfl_loss  Instances       Size\n"
          ]
        },
        {
          "output_type": "stream",
          "name": "stderr",
          "text": [
            "     15/100      3.99G      1.592      1.705      1.845         12        640: 100%|██████████| 33/33 [00:09<00:00,  3.45it/s]\n",
            "                 Class     Images  Instances      Box(P          R      mAP50  mAP50-95): 100%|██████████| 2/2 [00:00<00:00,  3.66it/s]"
          ]
        },
        {
          "output_type": "stream",
          "name": "stdout",
          "text": [
            "                   all         29         40     0.0734      0.356     0.0768     0.0286\n"
          ]
        },
        {
          "output_type": "stream",
          "name": "stderr",
          "text": [
            "\n"
          ]
        },
        {
          "output_type": "stream",
          "name": "stdout",
          "text": [
            "\n",
            "      Epoch    GPU_mem   box_loss   cls_loss   dfl_loss  Instances       Size\n"
          ]
        },
        {
          "output_type": "stream",
          "name": "stderr",
          "text": [
            "     16/100      3.98G       1.57      1.698      1.826         11        640: 100%|██████████| 33/33 [00:10<00:00,  3.16it/s]\n",
            "                 Class     Images  Instances      Box(P          R      mAP50  mAP50-95): 100%|██████████| 2/2 [00:00<00:00,  3.35it/s]"
          ]
        },
        {
          "output_type": "stream",
          "name": "stdout",
          "text": [
            "                   all         29         40      0.402      0.484      0.446      0.212\n"
          ]
        },
        {
          "output_type": "stream",
          "name": "stderr",
          "text": [
            "\n"
          ]
        },
        {
          "output_type": "stream",
          "name": "stdout",
          "text": [
            "\n",
            "      Epoch    GPU_mem   box_loss   cls_loss   dfl_loss  Instances       Size\n"
          ]
        },
        {
          "output_type": "stream",
          "name": "stderr",
          "text": [
            "     17/100      3.98G      1.597      1.633      1.824         16        640: 100%|██████████| 33/33 [00:10<00:00,  3.25it/s]\n",
            "                 Class     Images  Instances      Box(P          R      mAP50  mAP50-95): 100%|██████████| 2/2 [00:00<00:00,  3.40it/s]"
          ]
        },
        {
          "output_type": "stream",
          "name": "stdout",
          "text": [
            "                   all         29         40      0.758      0.533      0.564      0.278\n"
          ]
        },
        {
          "output_type": "stream",
          "name": "stderr",
          "text": [
            "\n"
          ]
        },
        {
          "output_type": "stream",
          "name": "stdout",
          "text": [
            "\n",
            "      Epoch    GPU_mem   box_loss   cls_loss   dfl_loss  Instances       Size\n"
          ]
        },
        {
          "output_type": "stream",
          "name": "stderr",
          "text": [
            "     18/100      3.96G      1.612      1.677      1.838         18        640: 100%|██████████| 33/33 [00:09<00:00,  3.40it/s]\n",
            "                 Class     Images  Instances      Box(P          R      mAP50  mAP50-95): 100%|██████████| 2/2 [00:00<00:00,  3.82it/s]"
          ]
        },
        {
          "output_type": "stream",
          "name": "stdout",
          "text": [
            "                   all         29         40      0.679      0.598       0.56      0.329\n"
          ]
        },
        {
          "output_type": "stream",
          "name": "stderr",
          "text": [
            "\n"
          ]
        },
        {
          "output_type": "stream",
          "name": "stdout",
          "text": [
            "\n",
            "      Epoch    GPU_mem   box_loss   cls_loss   dfl_loss  Instances       Size\n"
          ]
        },
        {
          "output_type": "stream",
          "name": "stderr",
          "text": [
            "     19/100      3.97G      1.489      1.567      1.778         22        640: 100%|██████████| 33/33 [00:10<00:00,  3.28it/s]\n",
            "                 Class     Images  Instances      Box(P          R      mAP50  mAP50-95): 100%|██████████| 2/2 [00:00<00:00,  3.96it/s]"
          ]
        },
        {
          "output_type": "stream",
          "name": "stdout",
          "text": [
            "                   all         29         40      0.766      0.523      0.613       0.37\n"
          ]
        },
        {
          "output_type": "stream",
          "name": "stderr",
          "text": [
            "\n"
          ]
        },
        {
          "output_type": "stream",
          "name": "stdout",
          "text": [
            "\n",
            "      Epoch    GPU_mem   box_loss   cls_loss   dfl_loss  Instances       Size\n"
          ]
        },
        {
          "output_type": "stream",
          "name": "stderr",
          "text": [
            "     20/100      3.97G      1.575      1.543      1.791         28        640: 100%|██████████| 33/33 [00:10<00:00,  3.25it/s]\n",
            "                 Class     Images  Instances      Box(P          R      mAP50  mAP50-95): 100%|██████████| 2/2 [00:00<00:00,  3.71it/s]"
          ]
        },
        {
          "output_type": "stream",
          "name": "stdout",
          "text": [
            "                   all         29         40      0.457      0.561      0.448      0.226\n"
          ]
        },
        {
          "output_type": "stream",
          "name": "stderr",
          "text": [
            "\n"
          ]
        },
        {
          "output_type": "stream",
          "name": "stdout",
          "text": [
            "\n",
            "      Epoch    GPU_mem   box_loss   cls_loss   dfl_loss  Instances       Size\n"
          ]
        },
        {
          "output_type": "stream",
          "name": "stderr",
          "text": [
            "     21/100      3.98G      1.471      1.478      1.722         16        640: 100%|██████████| 33/33 [00:11<00:00,  2.77it/s]\n",
            "                 Class     Images  Instances      Box(P          R      mAP50  mAP50-95): 100%|██████████| 2/2 [00:00<00:00,  3.44it/s]"
          ]
        },
        {
          "output_type": "stream",
          "name": "stdout",
          "text": [
            "                   all         29         40       0.73      0.675      0.666      0.404\n"
          ]
        },
        {
          "output_type": "stream",
          "name": "stderr",
          "text": [
            "\n"
          ]
        },
        {
          "output_type": "stream",
          "name": "stdout",
          "text": [
            "\n",
            "      Epoch    GPU_mem   box_loss   cls_loss   dfl_loss  Instances       Size\n"
          ]
        },
        {
          "output_type": "stream",
          "name": "stderr",
          "text": [
            "     22/100      3.98G      1.504      1.465      1.754         19        640: 100%|██████████| 33/33 [00:10<00:00,  3.26it/s]\n",
            "                 Class     Images  Instances      Box(P          R      mAP50  mAP50-95): 100%|██████████| 2/2 [00:00<00:00,  3.80it/s]"
          ]
        },
        {
          "output_type": "stream",
          "name": "stdout",
          "text": [
            "                   all         29         40      0.581       0.59      0.556       0.33\n"
          ]
        },
        {
          "output_type": "stream",
          "name": "stderr",
          "text": [
            "\n"
          ]
        },
        {
          "output_type": "stream",
          "name": "stdout",
          "text": [
            "\n",
            "      Epoch    GPU_mem   box_loss   cls_loss   dfl_loss  Instances       Size\n"
          ]
        },
        {
          "output_type": "stream",
          "name": "stderr",
          "text": [
            "     23/100      3.96G      1.477      1.479      1.722         15        640: 100%|██████████| 33/33 [00:10<00:00,  3.29it/s]\n",
            "                 Class     Images  Instances      Box(P          R      mAP50  mAP50-95): 100%|██████████| 2/2 [00:00<00:00,  3.78it/s]"
          ]
        },
        {
          "output_type": "stream",
          "name": "stdout",
          "text": [
            "                   all         29         40      0.873       0.54      0.574       0.37\n"
          ]
        },
        {
          "output_type": "stream",
          "name": "stderr",
          "text": [
            "\n"
          ]
        },
        {
          "output_type": "stream",
          "name": "stdout",
          "text": [
            "\n",
            "      Epoch    GPU_mem   box_loss   cls_loss   dfl_loss  Instances       Size\n"
          ]
        },
        {
          "output_type": "stream",
          "name": "stderr",
          "text": [
            "     24/100      3.97G      1.434      1.456      1.706         21        640: 100%|██████████| 33/33 [00:09<00:00,  3.43it/s]\n",
            "                 Class     Images  Instances      Box(P          R      mAP50  mAP50-95): 100%|██████████| 2/2 [00:00<00:00,  2.78it/s]"
          ]
        },
        {
          "output_type": "stream",
          "name": "stdout",
          "text": [
            "                   all         29         40      0.714       0.65      0.646      0.389\n"
          ]
        },
        {
          "output_type": "stream",
          "name": "stderr",
          "text": [
            "\n"
          ]
        },
        {
          "output_type": "stream",
          "name": "stdout",
          "text": [
            "\n",
            "      Epoch    GPU_mem   box_loss   cls_loss   dfl_loss  Instances       Size\n"
          ]
        },
        {
          "output_type": "stream",
          "name": "stderr",
          "text": [
            "     25/100      3.97G       1.44      1.423      1.684         22        640: 100%|██████████| 33/33 [00:09<00:00,  3.66it/s]\n",
            "                 Class     Images  Instances      Box(P          R      mAP50  mAP50-95): 100%|██████████| 2/2 [00:00<00:00,  2.66it/s]"
          ]
        },
        {
          "output_type": "stream",
          "name": "stdout",
          "text": [
            "                   all         29         40      0.753       0.58      0.615      0.398\n"
          ]
        },
        {
          "output_type": "stream",
          "name": "stderr",
          "text": [
            "\n"
          ]
        },
        {
          "output_type": "stream",
          "name": "stdout",
          "text": [
            "\n",
            "      Epoch    GPU_mem   box_loss   cls_loss   dfl_loss  Instances       Size\n"
          ]
        },
        {
          "output_type": "stream",
          "name": "stderr",
          "text": [
            "     26/100      3.95G      1.501      1.454      1.734         24        640: 100%|██████████| 33/33 [00:09<00:00,  3.51it/s]\n",
            "                 Class     Images  Instances      Box(P          R      mAP50  mAP50-95): 100%|██████████| 2/2 [00:00<00:00,  3.43it/s]"
          ]
        },
        {
          "output_type": "stream",
          "name": "stdout",
          "text": [
            "                   all         29         40      0.529      0.617       0.56      0.318\n"
          ]
        },
        {
          "output_type": "stream",
          "name": "stderr",
          "text": [
            "\n"
          ]
        },
        {
          "output_type": "stream",
          "name": "stdout",
          "text": [
            "\n",
            "      Epoch    GPU_mem   box_loss   cls_loss   dfl_loss  Instances       Size\n"
          ]
        },
        {
          "output_type": "stream",
          "name": "stderr",
          "text": [
            "     27/100      3.97G      1.467      1.383      1.723         15        640: 100%|██████████| 33/33 [00:10<00:00,  3.29it/s]\n",
            "                 Class     Images  Instances      Box(P          R      mAP50  mAP50-95): 100%|██████████| 2/2 [00:00<00:00,  4.02it/s]"
          ]
        },
        {
          "output_type": "stream",
          "name": "stdout",
          "text": [
            "                   all         29         40      0.759      0.622      0.645      0.367\n"
          ]
        },
        {
          "output_type": "stream",
          "name": "stderr",
          "text": [
            "\n"
          ]
        },
        {
          "output_type": "stream",
          "name": "stdout",
          "text": [
            "\n",
            "      Epoch    GPU_mem   box_loss   cls_loss   dfl_loss  Instances       Size\n"
          ]
        },
        {
          "output_type": "stream",
          "name": "stderr",
          "text": [
            "     28/100      3.97G      1.367      1.273      1.636         17        640: 100%|██████████| 33/33 [00:10<00:00,  3.25it/s]\n",
            "                 Class     Images  Instances      Box(P          R      mAP50  mAP50-95): 100%|██████████| 2/2 [00:00<00:00,  3.94it/s]"
          ]
        },
        {
          "output_type": "stream",
          "name": "stdout",
          "text": [
            "                   all         29         40      0.692      0.675      0.618      0.355\n"
          ]
        },
        {
          "output_type": "stream",
          "name": "stderr",
          "text": [
            "\n"
          ]
        },
        {
          "output_type": "stream",
          "name": "stdout",
          "text": [
            "\n",
            "      Epoch    GPU_mem   box_loss   cls_loss   dfl_loss  Instances       Size\n"
          ]
        },
        {
          "output_type": "stream",
          "name": "stderr",
          "text": [
            "     29/100      3.99G      1.445       1.33      1.699         13        640: 100%|██████████| 33/33 [00:10<00:00,  3.25it/s]\n",
            "                 Class     Images  Instances      Box(P          R      mAP50  mAP50-95): 100%|██████████| 2/2 [00:00<00:00,  4.07it/s]"
          ]
        },
        {
          "output_type": "stream",
          "name": "stdout",
          "text": [
            "                   all         29         40      0.554      0.573      0.505      0.309\n"
          ]
        },
        {
          "output_type": "stream",
          "name": "stderr",
          "text": [
            "\n"
          ]
        },
        {
          "output_type": "stream",
          "name": "stdout",
          "text": [
            "\n",
            "      Epoch    GPU_mem   box_loss   cls_loss   dfl_loss  Instances       Size\n"
          ]
        },
        {
          "output_type": "stream",
          "name": "stderr",
          "text": [
            "     30/100      3.98G      1.387      1.291      1.659         22        640: 100%|██████████| 33/33 [00:10<00:00,  3.30it/s]\n",
            "                 Class     Images  Instances      Box(P          R      mAP50  mAP50-95): 100%|██████████| 2/2 [00:00<00:00,  3.31it/s]"
          ]
        },
        {
          "output_type": "stream",
          "name": "stdout",
          "text": [
            "                   all         29         40      0.819      0.504      0.585      0.362\n"
          ]
        },
        {
          "output_type": "stream",
          "name": "stderr",
          "text": [
            "\n"
          ]
        },
        {
          "output_type": "stream",
          "name": "stdout",
          "text": [
            "\n",
            "      Epoch    GPU_mem   box_loss   cls_loss   dfl_loss  Instances       Size\n"
          ]
        },
        {
          "output_type": "stream",
          "name": "stderr",
          "text": [
            "     31/100      3.97G      1.427      1.274      1.641         25        640: 100%|██████████| 33/33 [00:09<00:00,  3.48it/s]\n",
            "                 Class     Images  Instances      Box(P          R      mAP50  mAP50-95): 100%|██████████| 2/2 [00:00<00:00,  3.12it/s]"
          ]
        },
        {
          "output_type": "stream",
          "name": "stdout",
          "text": [
            "                   all         29         40      0.625      0.614       0.55       0.27\n"
          ]
        },
        {
          "output_type": "stream",
          "name": "stderr",
          "text": [
            "\n"
          ]
        },
        {
          "output_type": "stream",
          "name": "stdout",
          "text": [
            "\n",
            "      Epoch    GPU_mem   box_loss   cls_loss   dfl_loss  Instances       Size\n"
          ]
        },
        {
          "output_type": "stream",
          "name": "stderr",
          "text": [
            "     32/100      3.98G      1.362       1.27       1.66         20        640: 100%|██████████| 33/33 [00:09<00:00,  3.66it/s]\n",
            "                 Class     Images  Instances      Box(P          R      mAP50  mAP50-95): 100%|██████████| 2/2 [00:00<00:00,  3.19it/s]"
          ]
        },
        {
          "output_type": "stream",
          "name": "stdout",
          "text": [
            "                   all         29         40      0.899      0.573      0.673      0.391\n"
          ]
        },
        {
          "output_type": "stream",
          "name": "stderr",
          "text": [
            "\n"
          ]
        },
        {
          "output_type": "stream",
          "name": "stdout",
          "text": [
            "\n",
            "      Epoch    GPU_mem   box_loss   cls_loss   dfl_loss  Instances       Size\n"
          ]
        },
        {
          "output_type": "stream",
          "name": "stderr",
          "text": [
            "     33/100      3.96G      1.421      1.364      1.672         15        640: 100%|██████████| 33/33 [00:09<00:00,  3.48it/s]\n",
            "                 Class     Images  Instances      Box(P          R      mAP50  mAP50-95): 100%|██████████| 2/2 [00:00<00:00,  4.00it/s]"
          ]
        },
        {
          "output_type": "stream",
          "name": "stdout",
          "text": [
            "                   all         29         40      0.793      0.539      0.531      0.316\n"
          ]
        },
        {
          "output_type": "stream",
          "name": "stderr",
          "text": [
            "\n"
          ]
        },
        {
          "output_type": "stream",
          "name": "stdout",
          "text": [
            "\n",
            "      Epoch    GPU_mem   box_loss   cls_loss   dfl_loss  Instances       Size\n"
          ]
        },
        {
          "output_type": "stream",
          "name": "stderr",
          "text": [
            "     34/100      3.95G      1.451      1.316      1.694         26        640: 100%|██████████| 33/33 [00:10<00:00,  3.29it/s]\n",
            "                 Class     Images  Instances      Box(P          R      mAP50  mAP50-95): 100%|██████████| 2/2 [00:00<00:00,  4.06it/s]"
          ]
        },
        {
          "output_type": "stream",
          "name": "stdout",
          "text": [
            "                   all         29         40       0.88      0.557      0.607      0.373\n"
          ]
        },
        {
          "output_type": "stream",
          "name": "stderr",
          "text": [
            "\n"
          ]
        },
        {
          "output_type": "stream",
          "name": "stdout",
          "text": [
            "\n",
            "      Epoch    GPU_mem   box_loss   cls_loss   dfl_loss  Instances       Size\n"
          ]
        },
        {
          "output_type": "stream",
          "name": "stderr",
          "text": [
            "     35/100      3.99G       1.37      1.293      1.664         17        640: 100%|██████████| 33/33 [00:10<00:00,  3.23it/s]\n",
            "                 Class     Images  Instances      Box(P          R      mAP50  mAP50-95): 100%|██████████| 2/2 [00:00<00:00,  4.03it/s]"
          ]
        },
        {
          "output_type": "stream",
          "name": "stdout",
          "text": [
            "                   all         29         40       0.81      0.509      0.561      0.338\n"
          ]
        },
        {
          "output_type": "stream",
          "name": "stderr",
          "text": [
            "\n"
          ]
        },
        {
          "output_type": "stream",
          "name": "stdout",
          "text": [
            "\n",
            "      Epoch    GPU_mem   box_loss   cls_loss   dfl_loss  Instances       Size\n"
          ]
        },
        {
          "output_type": "stream",
          "name": "stderr",
          "text": [
            "     36/100      3.95G       1.29      1.248      1.607         20        640: 100%|██████████| 33/33 [00:09<00:00,  3.32it/s]\n",
            "                 Class     Images  Instances      Box(P          R      mAP50  mAP50-95): 100%|██████████| 2/2 [00:00<00:00,  3.83it/s]"
          ]
        },
        {
          "output_type": "stream",
          "name": "stdout",
          "text": [
            "                   all         29         40      0.525      0.655      0.615      0.337\n"
          ]
        },
        {
          "output_type": "stream",
          "name": "stderr",
          "text": [
            "\n"
          ]
        },
        {
          "output_type": "stream",
          "name": "stdout",
          "text": [
            "\n",
            "      Epoch    GPU_mem   box_loss   cls_loss   dfl_loss  Instances       Size\n"
          ]
        },
        {
          "output_type": "stream",
          "name": "stderr",
          "text": [
            "     37/100      3.98G      1.311      1.194      1.603         33        640: 100%|██████████| 33/33 [00:09<00:00,  3.32it/s]\n",
            "                 Class     Images  Instances      Box(P          R      mAP50  mAP50-95): 100%|██████████| 2/2 [00:00<00:00,  2.81it/s]"
          ]
        },
        {
          "output_type": "stream",
          "name": "stdout",
          "text": [
            "                   all         29         40      0.616        0.6      0.641      0.402\n"
          ]
        },
        {
          "output_type": "stream",
          "name": "stderr",
          "text": [
            "\n"
          ]
        },
        {
          "output_type": "stream",
          "name": "stdout",
          "text": [
            "\n",
            "      Epoch    GPU_mem   box_loss   cls_loss   dfl_loss  Instances       Size\n"
          ]
        },
        {
          "output_type": "stream",
          "name": "stderr",
          "text": [
            "     38/100      3.98G      1.325      1.145      1.585         16        640: 100%|██████████| 33/33 [00:09<00:00,  3.52it/s]\n",
            "                 Class     Images  Instances      Box(P          R      mAP50  mAP50-95): 100%|██████████| 2/2 [00:00<00:00,  2.84it/s]"
          ]
        },
        {
          "output_type": "stream",
          "name": "stdout",
          "text": [
            "                   all         29         40      0.683      0.598      0.599      0.357\n"
          ]
        },
        {
          "output_type": "stream",
          "name": "stderr",
          "text": [
            "\n"
          ]
        },
        {
          "output_type": "stream",
          "name": "stdout",
          "text": [
            "\n",
            "      Epoch    GPU_mem   box_loss   cls_loss   dfl_loss  Instances       Size\n"
          ]
        },
        {
          "output_type": "stream",
          "name": "stderr",
          "text": [
            "     39/100      3.97G      1.322      1.158        1.6         21        640: 100%|██████████| 33/33 [00:08<00:00,  3.68it/s]\n",
            "                 Class     Images  Instances      Box(P          R      mAP50  mAP50-95): 100%|██████████| 2/2 [00:00<00:00,  3.92it/s]"
          ]
        },
        {
          "output_type": "stream",
          "name": "stdout",
          "text": [
            "                   all         29         40      0.819      0.644      0.687       0.42\n"
          ]
        },
        {
          "output_type": "stream",
          "name": "stderr",
          "text": [
            "\n"
          ]
        },
        {
          "output_type": "stream",
          "name": "stdout",
          "text": [
            "\n",
            "      Epoch    GPU_mem   box_loss   cls_loss   dfl_loss  Instances       Size\n"
          ]
        },
        {
          "output_type": "stream",
          "name": "stderr",
          "text": [
            "     40/100      3.95G       1.27      1.138      1.587         17        640: 100%|██████████| 33/33 [00:09<00:00,  3.63it/s]\n",
            "                 Class     Images  Instances      Box(P          R      mAP50  mAP50-95): 100%|██████████| 2/2 [00:00<00:00,  4.00it/s]"
          ]
        },
        {
          "output_type": "stream",
          "name": "stdout",
          "text": [
            "                   all         29         40      0.831      0.637       0.69      0.428\n"
          ]
        },
        {
          "output_type": "stream",
          "name": "stderr",
          "text": [
            "\n"
          ]
        },
        {
          "output_type": "stream",
          "name": "stdout",
          "text": [
            "\n",
            "      Epoch    GPU_mem   box_loss   cls_loss   dfl_loss  Instances       Size\n"
          ]
        },
        {
          "output_type": "stream",
          "name": "stderr",
          "text": [
            "     41/100      3.97G      1.247      1.103      1.573         14        640: 100%|██████████| 33/33 [00:09<00:00,  3.56it/s]\n",
            "                 Class     Images  Instances      Box(P          R      mAP50  mAP50-95): 100%|██████████| 2/2 [00:00<00:00,  2.82it/s]"
          ]
        },
        {
          "output_type": "stream",
          "name": "stdout",
          "text": [
            "                   all         29         40      0.911      0.541      0.636      0.376\n"
          ]
        },
        {
          "output_type": "stream",
          "name": "stderr",
          "text": [
            "\n"
          ]
        },
        {
          "output_type": "stream",
          "name": "stdout",
          "text": [
            "\n",
            "      Epoch    GPU_mem   box_loss   cls_loss   dfl_loss  Instances       Size\n"
          ]
        },
        {
          "output_type": "stream",
          "name": "stderr",
          "text": [
            "     42/100      3.97G      1.286      1.133      1.564         22        640: 100%|██████████| 33/33 [00:09<00:00,  3.57it/s]\n",
            "                 Class     Images  Instances      Box(P          R      mAP50  mAP50-95): 100%|██████████| 2/2 [00:00<00:00,  3.69it/s]"
          ]
        },
        {
          "output_type": "stream",
          "name": "stdout",
          "text": [
            "                   all         29         40      0.797      0.541      0.602       0.34\n"
          ]
        },
        {
          "output_type": "stream",
          "name": "stderr",
          "text": [
            "\n"
          ]
        },
        {
          "output_type": "stream",
          "name": "stdout",
          "text": [
            "\n",
            "      Epoch    GPU_mem   box_loss   cls_loss   dfl_loss  Instances       Size\n"
          ]
        },
        {
          "output_type": "stream",
          "name": "stderr",
          "text": [
            "     43/100      3.98G      1.258      1.129      1.581         31        640: 100%|██████████| 33/33 [00:10<00:00,  3.28it/s]\n",
            "                 Class     Images  Instances      Box(P          R      mAP50  mAP50-95): 100%|██████████| 2/2 [00:00<00:00,  3.96it/s]"
          ]
        },
        {
          "output_type": "stream",
          "name": "stdout",
          "text": [
            "                   all         29         40      0.549      0.618      0.591      0.338\n"
          ]
        },
        {
          "output_type": "stream",
          "name": "stderr",
          "text": [
            "\n"
          ]
        },
        {
          "output_type": "stream",
          "name": "stdout",
          "text": [
            "\n",
            "      Epoch    GPU_mem   box_loss   cls_loss   dfl_loss  Instances       Size\n"
          ]
        },
        {
          "output_type": "stream",
          "name": "stderr",
          "text": [
            "     44/100      3.95G      1.265       1.07       1.55          9        640: 100%|██████████| 33/33 [00:10<00:00,  3.27it/s]\n",
            "                 Class     Images  Instances      Box(P          R      mAP50  mAP50-95): 100%|██████████| 2/2 [00:00<00:00,  3.94it/s]"
          ]
        },
        {
          "output_type": "stream",
          "name": "stdout",
          "text": [
            "                   all         29         40      0.918      0.572       0.63      0.355\n"
          ]
        },
        {
          "output_type": "stream",
          "name": "stderr",
          "text": [
            "\n"
          ]
        },
        {
          "output_type": "stream",
          "name": "stdout",
          "text": [
            "\n",
            "      Epoch    GPU_mem   box_loss   cls_loss   dfl_loss  Instances       Size\n"
          ]
        },
        {
          "output_type": "stream",
          "name": "stderr",
          "text": [
            "     45/100      3.97G      1.221      1.039      1.513         19        640: 100%|██████████| 33/33 [00:10<00:00,  3.25it/s]\n",
            "                 Class     Images  Instances      Box(P          R      mAP50  mAP50-95): 100%|██████████| 2/2 [00:00<00:00,  3.62it/s]"
          ]
        },
        {
          "output_type": "stream",
          "name": "stdout",
          "text": [
            "                   all         29         40      0.751       0.63      0.632      0.371\n"
          ]
        },
        {
          "output_type": "stream",
          "name": "stderr",
          "text": [
            "\n"
          ]
        },
        {
          "output_type": "stream",
          "name": "stdout",
          "text": [
            "\n",
            "      Epoch    GPU_mem   box_loss   cls_loss   dfl_loss  Instances       Size\n"
          ]
        },
        {
          "output_type": "stream",
          "name": "stderr",
          "text": [
            "     46/100      3.97G      1.236      1.038      1.526         38        640: 100%|██████████| 33/33 [00:10<00:00,  3.26it/s]\n",
            "                 Class     Images  Instances      Box(P          R      mAP50  mAP50-95): 100%|██████████| 2/2 [00:00<00:00,  3.63it/s]"
          ]
        },
        {
          "output_type": "stream",
          "name": "stdout",
          "text": [
            "                   all         29         40      0.645       0.58      0.578      0.354\n"
          ]
        },
        {
          "output_type": "stream",
          "name": "stderr",
          "text": [
            "\n"
          ]
        },
        {
          "output_type": "stream",
          "name": "stdout",
          "text": [
            "\n",
            "      Epoch    GPU_mem   box_loss   cls_loss   dfl_loss  Instances       Size\n"
          ]
        },
        {
          "output_type": "stream",
          "name": "stderr",
          "text": [
            "     47/100      3.97G      1.191      1.025      1.512         27        640: 100%|██████████| 33/33 [00:09<00:00,  3.42it/s]\n",
            "                 Class     Images  Instances      Box(P          R      mAP50  mAP50-95): 100%|██████████| 2/2 [00:00<00:00,  2.26it/s]"
          ]
        },
        {
          "output_type": "stream",
          "name": "stdout",
          "text": [
            "                   all         29         40      0.662      0.655      0.645      0.396\n"
          ]
        },
        {
          "output_type": "stream",
          "name": "stderr",
          "text": [
            "\n"
          ]
        },
        {
          "output_type": "stream",
          "name": "stdout",
          "text": [
            "\n",
            "      Epoch    GPU_mem   box_loss   cls_loss   dfl_loss  Instances       Size\n"
          ]
        },
        {
          "output_type": "stream",
          "name": "stderr",
          "text": [
            "     48/100      3.98G      1.197     0.9954      1.504         23        640: 100%|██████████| 33/33 [00:08<00:00,  3.68it/s]\n",
            "                 Class     Images  Instances      Box(P          R      mAP50  mAP50-95): 100%|██████████| 2/2 [00:00<00:00,  3.67it/s]"
          ]
        },
        {
          "output_type": "stream",
          "name": "stdout",
          "text": [
            "                   all         29         40      0.941      0.598      0.695      0.442\n"
          ]
        },
        {
          "output_type": "stream",
          "name": "stderr",
          "text": [
            "\n"
          ]
        },
        {
          "output_type": "stream",
          "name": "stdout",
          "text": [
            "\n",
            "      Epoch    GPU_mem   box_loss   cls_loss   dfl_loss  Instances       Size\n"
          ]
        },
        {
          "output_type": "stream",
          "name": "stderr",
          "text": [
            "     49/100      3.95G      1.239      1.067      1.531         26        640: 100%|██████████| 33/33 [00:09<00:00,  3.36it/s]\n",
            "                 Class     Images  Instances      Box(P          R      mAP50  mAP50-95): 100%|██████████| 2/2 [00:00<00:00,  2.75it/s]"
          ]
        },
        {
          "output_type": "stream",
          "name": "stdout",
          "text": [
            "                   all         29         40      0.726      0.662      0.688       0.41\n"
          ]
        },
        {
          "output_type": "stream",
          "name": "stderr",
          "text": [
            "\n"
          ]
        },
        {
          "output_type": "stream",
          "name": "stdout",
          "text": [
            "\n",
            "      Epoch    GPU_mem   box_loss   cls_loss   dfl_loss  Instances       Size\n"
          ]
        },
        {
          "output_type": "stream",
          "name": "stderr",
          "text": [
            "     50/100      3.97G      1.197      1.079      1.536         14        640: 100%|██████████| 33/33 [00:09<00:00,  3.56it/s]\n",
            "                 Class     Images  Instances      Box(P          R      mAP50  mAP50-95): 100%|██████████| 2/2 [00:00<00:00,  2.86it/s]"
          ]
        },
        {
          "output_type": "stream",
          "name": "stdout",
          "text": [
            "                   all         29         40      0.947      0.541      0.634      0.352\n"
          ]
        },
        {
          "output_type": "stream",
          "name": "stderr",
          "text": [
            "\n"
          ]
        },
        {
          "output_type": "stream",
          "name": "stdout",
          "text": [
            "\n",
            "      Epoch    GPU_mem   box_loss   cls_loss   dfl_loss  Instances       Size\n"
          ]
        },
        {
          "output_type": "stream",
          "name": "stderr",
          "text": [
            "     51/100      3.98G      1.281       1.12      1.557         21        640: 100%|██████████| 33/33 [00:09<00:00,  3.64it/s]\n",
            "                 Class     Images  Instances      Box(P          R      mAP50  mAP50-95): 100%|██████████| 2/2 [00:00<00:00,  3.77it/s]"
          ]
        },
        {
          "output_type": "stream",
          "name": "stdout",
          "text": [
            "                   all         29         40       0.73      0.638      0.663      0.387\n"
          ]
        },
        {
          "output_type": "stream",
          "name": "stderr",
          "text": [
            "\n"
          ]
        },
        {
          "output_type": "stream",
          "name": "stdout",
          "text": [
            "\n",
            "      Epoch    GPU_mem   box_loss   cls_loss   dfl_loss  Instances       Size\n"
          ]
        },
        {
          "output_type": "stream",
          "name": "stderr",
          "text": [
            "     52/100      3.98G      1.241      1.103      1.575         20        640: 100%|██████████| 33/33 [00:09<00:00,  3.31it/s]\n",
            "                 Class     Images  Instances      Box(P          R      mAP50  mAP50-95): 100%|██████████| 2/2 [00:00<00:00,  3.47it/s]"
          ]
        },
        {
          "output_type": "stream",
          "name": "stdout",
          "text": [
            "                   all         29         40      0.943      0.646      0.743      0.426\n"
          ]
        },
        {
          "output_type": "stream",
          "name": "stderr",
          "text": [
            "\n"
          ]
        },
        {
          "output_type": "stream",
          "name": "stdout",
          "text": [
            "\n",
            "      Epoch    GPU_mem   box_loss   cls_loss   dfl_loss  Instances       Size\n"
          ]
        },
        {
          "output_type": "stream",
          "name": "stderr",
          "text": [
            "     53/100      3.98G      1.135      0.993      1.471         12        640: 100%|██████████| 33/33 [00:10<00:00,  3.28it/s]\n",
            "                 Class     Images  Instances      Box(P          R      mAP50  mAP50-95): 100%|██████████| 2/2 [00:00<00:00,  3.73it/s]"
          ]
        },
        {
          "output_type": "stream",
          "name": "stdout",
          "text": [
            "                   all         29         40      0.722      0.655      0.663      0.408\n"
          ]
        },
        {
          "output_type": "stream",
          "name": "stderr",
          "text": [
            "\n"
          ]
        },
        {
          "output_type": "stream",
          "name": "stdout",
          "text": [
            "\n",
            "      Epoch    GPU_mem   box_loss   cls_loss   dfl_loss  Instances       Size\n"
          ]
        },
        {
          "output_type": "stream",
          "name": "stderr",
          "text": [
            "     54/100      3.97G      1.165     0.9856      1.468         18        640: 100%|██████████| 33/33 [00:10<00:00,  3.27it/s]\n",
            "                 Class     Images  Instances      Box(P          R      mAP50  mAP50-95): 100%|██████████| 2/2 [00:00<00:00,  3.60it/s]"
          ]
        },
        {
          "output_type": "stream",
          "name": "stdout",
          "text": [
            "                   all         29         40      0.649      0.655      0.639      0.405\n"
          ]
        },
        {
          "output_type": "stream",
          "name": "stderr",
          "text": [
            "\n"
          ]
        },
        {
          "output_type": "stream",
          "name": "stdout",
          "text": [
            "\n",
            "      Epoch    GPU_mem   box_loss   cls_loss   dfl_loss  Instances       Size\n"
          ]
        },
        {
          "output_type": "stream",
          "name": "stderr",
          "text": [
            "     55/100      3.98G      1.144     0.9511      1.433         19        640: 100%|██████████| 33/33 [00:10<00:00,  3.21it/s]\n",
            "                 Class     Images  Instances      Box(P          R      mAP50  mAP50-95): 100%|██████████| 2/2 [00:00<00:00,  3.54it/s]"
          ]
        },
        {
          "output_type": "stream",
          "name": "stdout",
          "text": [
            "                   all         29         40      0.751       0.57      0.628      0.399\n"
          ]
        },
        {
          "output_type": "stream",
          "name": "stderr",
          "text": [
            "\n"
          ]
        },
        {
          "output_type": "stream",
          "name": "stdout",
          "text": [
            "\n",
            "      Epoch    GPU_mem   box_loss   cls_loss   dfl_loss  Instances       Size\n"
          ]
        },
        {
          "output_type": "stream",
          "name": "stderr",
          "text": [
            "     56/100      3.96G      1.092     0.9687      1.448         28        640: 100%|██████████| 33/33 [00:10<00:00,  3.24it/s]\n",
            "                 Class     Images  Instances      Box(P          R      mAP50  mAP50-95): 100%|██████████| 2/2 [00:00<00:00,  4.01it/s]"
          ]
        },
        {
          "output_type": "stream",
          "name": "stdout",
          "text": [
            "                   all         29         40      0.794      0.637      0.667      0.429\n"
          ]
        },
        {
          "output_type": "stream",
          "name": "stderr",
          "text": [
            "\n"
          ]
        },
        {
          "output_type": "stream",
          "name": "stdout",
          "text": [
            "\n",
            "      Epoch    GPU_mem   box_loss   cls_loss   dfl_loss  Instances       Size\n"
          ]
        },
        {
          "output_type": "stream",
          "name": "stderr",
          "text": [
            "     57/100      3.99G      1.118     0.9388      1.427         11        640: 100%|██████████| 33/33 [00:10<00:00,  3.26it/s]\n",
            "                 Class     Images  Instances      Box(P          R      mAP50  mAP50-95): 100%|██████████| 2/2 [00:00<00:00,  3.56it/s]"
          ]
        },
        {
          "output_type": "stream",
          "name": "stdout",
          "text": [
            "                   all         29         40      0.763      0.627      0.675      0.373\n"
          ]
        },
        {
          "output_type": "stream",
          "name": "stderr",
          "text": [
            "\n"
          ]
        },
        {
          "output_type": "stream",
          "name": "stdout",
          "text": [
            "\n",
            "      Epoch    GPU_mem   box_loss   cls_loss   dfl_loss  Instances       Size\n"
          ]
        },
        {
          "output_type": "stream",
          "name": "stderr",
          "text": [
            "     58/100      3.97G      1.133      0.913       1.46         19        640: 100%|██████████| 33/33 [00:09<00:00,  3.46it/s]\n",
            "                 Class     Images  Instances      Box(P          R      mAP50  mAP50-95): 100%|██████████| 2/2 [00:00<00:00,  2.33it/s]"
          ]
        },
        {
          "output_type": "stream",
          "name": "stdout",
          "text": [
            "                   all         29         40      0.873      0.685       0.73      0.423\n"
          ]
        },
        {
          "output_type": "stream",
          "name": "stderr",
          "text": [
            "\n"
          ]
        },
        {
          "output_type": "stream",
          "name": "stdout",
          "text": [
            "\n",
            "      Epoch    GPU_mem   box_loss   cls_loss   dfl_loss  Instances       Size\n"
          ]
        },
        {
          "output_type": "stream",
          "name": "stderr",
          "text": [
            "     59/100      3.97G      1.134     0.9087      1.431         20        640: 100%|██████████| 33/33 [00:09<00:00,  3.64it/s]\n",
            "                 Class     Images  Instances      Box(P          R      mAP50  mAP50-95): 100%|██████████| 2/2 [00:00<00:00,  3.36it/s]"
          ]
        },
        {
          "output_type": "stream",
          "name": "stdout",
          "text": [
            "                   all         29         40      0.725      0.732       0.74      0.447\n"
          ]
        },
        {
          "output_type": "stream",
          "name": "stderr",
          "text": [
            "\n"
          ]
        },
        {
          "output_type": "stream",
          "name": "stdout",
          "text": [
            "\n",
            "      Epoch    GPU_mem   box_loss   cls_loss   dfl_loss  Instances       Size\n"
          ]
        },
        {
          "output_type": "stream",
          "name": "stderr",
          "text": [
            "     60/100      3.95G      1.123     0.9107      1.415         33        640: 100%|██████████| 33/33 [00:09<00:00,  3.63it/s]\n",
            "                 Class     Images  Instances      Box(P          R      mAP50  mAP50-95): 100%|██████████| 2/2 [00:00<00:00,  2.62it/s]"
          ]
        },
        {
          "output_type": "stream",
          "name": "stdout",
          "text": [
            "                   all         29         40      0.708      0.694        0.7      0.432\n"
          ]
        },
        {
          "output_type": "stream",
          "name": "stderr",
          "text": [
            "\n"
          ]
        },
        {
          "output_type": "stream",
          "name": "stdout",
          "text": [
            "\n",
            "      Epoch    GPU_mem   box_loss   cls_loss   dfl_loss  Instances       Size\n"
          ]
        },
        {
          "output_type": "stream",
          "name": "stderr",
          "text": [
            "     61/100      3.96G      1.077     0.8968      1.422         22        640: 100%|██████████| 33/33 [00:09<00:00,  3.64it/s]\n",
            "                 Class     Images  Instances      Box(P          R      mAP50  mAP50-95): 100%|██████████| 2/2 [00:00<00:00,  3.92it/s]"
          ]
        },
        {
          "output_type": "stream",
          "name": "stdout",
          "text": [
            "                   all         29         40      0.822      0.648       0.69      0.428\n"
          ]
        },
        {
          "output_type": "stream",
          "name": "stderr",
          "text": [
            "\n"
          ]
        },
        {
          "output_type": "stream",
          "name": "stdout",
          "text": [
            "\n",
            "      Epoch    GPU_mem   box_loss   cls_loss   dfl_loss  Instances       Size\n"
          ]
        },
        {
          "output_type": "stream",
          "name": "stderr",
          "text": [
            "     62/100      3.98G      1.087     0.9281      1.421         24        640: 100%|██████████| 33/33 [00:10<00:00,  3.27it/s]\n",
            "                 Class     Images  Instances      Box(P          R      mAP50  mAP50-95): 100%|██████████| 2/2 [00:00<00:00,  3.42it/s]"
          ]
        },
        {
          "output_type": "stream",
          "name": "stdout",
          "text": [
            "                   all         29         40      0.807      0.685      0.712       0.41\n"
          ]
        },
        {
          "output_type": "stream",
          "name": "stderr",
          "text": [
            "\n"
          ]
        },
        {
          "output_type": "stream",
          "name": "stdout",
          "text": [
            "\n",
            "      Epoch    GPU_mem   box_loss   cls_loss   dfl_loss  Instances       Size\n"
          ]
        },
        {
          "output_type": "stream",
          "name": "stderr",
          "text": [
            "     63/100      3.97G      1.049     0.8666      1.401         18        640: 100%|██████████| 33/33 [00:10<00:00,  3.25it/s]\n",
            "                 Class     Images  Instances      Box(P          R      mAP50  mAP50-95): 100%|██████████| 2/2 [00:00<00:00,  3.81it/s]"
          ]
        },
        {
          "output_type": "stream",
          "name": "stdout",
          "text": [
            "                   all         29         40      0.797      0.655      0.681      0.435\n"
          ]
        },
        {
          "output_type": "stream",
          "name": "stderr",
          "text": [
            "\n"
          ]
        },
        {
          "output_type": "stream",
          "name": "stdout",
          "text": [
            "\n",
            "      Epoch    GPU_mem   box_loss   cls_loss   dfl_loss  Instances       Size\n"
          ]
        },
        {
          "output_type": "stream",
          "name": "stderr",
          "text": [
            "     64/100      3.98G      1.002     0.8165      1.355         35        640: 100%|██████████| 33/33 [00:10<00:00,  3.20it/s]\n",
            "                 Class     Images  Instances      Box(P          R      mAP50  mAP50-95): 100%|██████████| 2/2 [00:00<00:00,  3.90it/s]"
          ]
        },
        {
          "output_type": "stream",
          "name": "stdout",
          "text": [
            "                   all         29         40      0.882      0.541      0.659      0.417\n"
          ]
        },
        {
          "output_type": "stream",
          "name": "stderr",
          "text": [
            "\n"
          ]
        },
        {
          "output_type": "stream",
          "name": "stdout",
          "text": [
            "\n",
            "      Epoch    GPU_mem   box_loss   cls_loss   dfl_loss  Instances       Size\n"
          ]
        },
        {
          "output_type": "stream",
          "name": "stderr",
          "text": [
            "     65/100      3.97G      1.044     0.8452      1.374         21        640: 100%|██████████| 33/33 [00:10<00:00,  3.29it/s]\n",
            "                 Class     Images  Instances      Box(P          R      mAP50  mAP50-95): 100%|██████████| 2/2 [00:00<00:00,  3.48it/s]"
          ]
        },
        {
          "output_type": "stream",
          "name": "stdout",
          "text": [
            "                   all         29         40      0.784      0.597      0.674      0.438\n"
          ]
        },
        {
          "output_type": "stream",
          "name": "stderr",
          "text": [
            "\n"
          ]
        },
        {
          "output_type": "stream",
          "name": "stdout",
          "text": [
            "\n",
            "      Epoch    GPU_mem   box_loss   cls_loss   dfl_loss  Instances       Size\n"
          ]
        },
        {
          "output_type": "stream",
          "name": "stderr",
          "text": [
            "     66/100      3.99G      1.014     0.8369      1.366         16        640: 100%|██████████| 33/33 [00:09<00:00,  3.43it/s]\n",
            "                 Class     Images  Instances      Box(P          R      mAP50  mAP50-95): 100%|██████████| 2/2 [00:00<00:00,  2.68it/s]"
          ]
        },
        {
          "output_type": "stream",
          "name": "stdout",
          "text": [
            "                   all         29         40      0.796        0.6      0.694      0.428\n"
          ]
        },
        {
          "output_type": "stream",
          "name": "stderr",
          "text": [
            "\n"
          ]
        },
        {
          "output_type": "stream",
          "name": "stdout",
          "text": [
            "\n",
            "      Epoch    GPU_mem   box_loss   cls_loss   dfl_loss  Instances       Size\n"
          ]
        },
        {
          "output_type": "stream",
          "name": "stderr",
          "text": [
            "     67/100      3.98G      1.025     0.8217      1.371         25        640: 100%|██████████| 33/33 [00:09<00:00,  3.59it/s]\n",
            "                 Class     Images  Instances      Box(P          R      mAP50  mAP50-95): 100%|██████████| 2/2 [00:00<00:00,  3.69it/s]"
          ]
        },
        {
          "output_type": "stream",
          "name": "stdout",
          "text": [
            "                   all         29         40      0.925      0.557      0.668      0.413\n"
          ]
        },
        {
          "output_type": "stream",
          "name": "stderr",
          "text": [
            "\n"
          ]
        },
        {
          "output_type": "stream",
          "name": "stdout",
          "text": [
            "\n",
            "      Epoch    GPU_mem   box_loss   cls_loss   dfl_loss  Instances       Size\n"
          ]
        },
        {
          "output_type": "stream",
          "name": "stderr",
          "text": [
            "     68/100      3.97G     0.9997     0.8291      1.335         17        640: 100%|██████████| 33/33 [00:09<00:00,  3.47it/s]\n",
            "                 Class     Images  Instances      Box(P          R      mAP50  mAP50-95): 100%|██████████| 2/2 [00:00<00:00,  3.69it/s]"
          ]
        },
        {
          "output_type": "stream",
          "name": "stdout",
          "text": [
            "                   all         29         40      0.719      0.725       0.71      0.428\n"
          ]
        },
        {
          "output_type": "stream",
          "name": "stderr",
          "text": [
            "\n"
          ]
        },
        {
          "output_type": "stream",
          "name": "stdout",
          "text": [
            "\n",
            "      Epoch    GPU_mem   box_loss   cls_loss   dfl_loss  Instances       Size\n"
          ]
        },
        {
          "output_type": "stream",
          "name": "stderr",
          "text": [
            "     69/100      3.99G     0.9739     0.7978      1.331         10        640: 100%|██████████| 33/33 [00:09<00:00,  3.31it/s]\n",
            "                 Class     Images  Instances      Box(P          R      mAP50  mAP50-95): 100%|██████████| 2/2 [00:00<00:00,  3.60it/s]"
          ]
        },
        {
          "output_type": "stream",
          "name": "stdout",
          "text": [
            "                   all         29         40      0.924      0.616      0.711      0.454\n"
          ]
        },
        {
          "output_type": "stream",
          "name": "stderr",
          "text": [
            "\n"
          ]
        },
        {
          "output_type": "stream",
          "name": "stdout",
          "text": [
            "\n",
            "      Epoch    GPU_mem   box_loss   cls_loss   dfl_loss  Instances       Size\n"
          ]
        },
        {
          "output_type": "stream",
          "name": "stderr",
          "text": [
            "     70/100      3.96G      1.014     0.8399      1.371         20        640: 100%|██████████| 33/33 [00:10<00:00,  3.25it/s]\n",
            "                 Class     Images  Instances      Box(P          R      mAP50  mAP50-95): 100%|██████████| 2/2 [00:00<00:00,  3.79it/s]"
          ]
        },
        {
          "output_type": "stream",
          "name": "stdout",
          "text": [
            "                   all         29         40      0.878      0.636      0.718      0.454\n"
          ]
        },
        {
          "output_type": "stream",
          "name": "stderr",
          "text": [
            "\n"
          ]
        },
        {
          "output_type": "stream",
          "name": "stdout",
          "text": [
            "\n",
            "      Epoch    GPU_mem   box_loss   cls_loss   dfl_loss  Instances       Size\n"
          ]
        },
        {
          "output_type": "stream",
          "name": "stderr",
          "text": [
            "     71/100      3.98G     0.9793     0.8151      1.341         14        640: 100%|██████████| 33/33 [00:10<00:00,  3.25it/s]\n",
            "                 Class     Images  Instances      Box(P          R      mAP50  mAP50-95): 100%|██████████| 2/2 [00:00<00:00,  3.80it/s]"
          ]
        },
        {
          "output_type": "stream",
          "name": "stdout",
          "text": [
            "                   all         29         40      0.696      0.752       0.74      0.452\n"
          ]
        },
        {
          "output_type": "stream",
          "name": "stderr",
          "text": [
            "\n"
          ]
        },
        {
          "output_type": "stream",
          "name": "stdout",
          "text": [
            "\n",
            "      Epoch    GPU_mem   box_loss   cls_loss   dfl_loss  Instances       Size\n"
          ]
        },
        {
          "output_type": "stream",
          "name": "stderr",
          "text": [
            "     72/100      3.98G     0.9646     0.7962      1.318         21        640: 100%|██████████| 33/33 [00:10<00:00,  3.18it/s]\n",
            "                 Class     Images  Instances      Box(P          R      mAP50  mAP50-95): 100%|██████████| 2/2 [00:00<00:00,  3.89it/s]"
          ]
        },
        {
          "output_type": "stream",
          "name": "stdout",
          "text": [
            "                   all         29         40      0.948      0.609      0.718      0.459\n"
          ]
        },
        {
          "output_type": "stream",
          "name": "stderr",
          "text": [
            "\n"
          ]
        },
        {
          "output_type": "stream",
          "name": "stdout",
          "text": [
            "\n",
            "      Epoch    GPU_mem   box_loss   cls_loss   dfl_loss  Instances       Size\n"
          ]
        },
        {
          "output_type": "stream",
          "name": "stderr",
          "text": [
            "     73/100      3.97G     0.9057     0.7503      1.292         17        640: 100%|██████████| 33/33 [00:10<00:00,  3.20it/s]\n",
            "                 Class     Images  Instances      Box(P          R      mAP50  mAP50-95): 100%|██████████| 2/2 [00:00<00:00,  3.54it/s]"
          ]
        },
        {
          "output_type": "stream",
          "name": "stdout",
          "text": [
            "                   all         29         40      0.961       0.64      0.709       0.46\n"
          ]
        },
        {
          "output_type": "stream",
          "name": "stderr",
          "text": [
            "\n"
          ]
        },
        {
          "output_type": "stream",
          "name": "stdout",
          "text": [
            "\n",
            "      Epoch    GPU_mem   box_loss   cls_loss   dfl_loss  Instances       Size\n"
          ]
        },
        {
          "output_type": "stream",
          "name": "stderr",
          "text": [
            "     74/100      3.96G     0.9431     0.7736      1.306         28        640: 100%|██████████| 33/33 [00:10<00:00,  3.26it/s]\n",
            "                 Class     Images  Instances      Box(P          R      mAP50  mAP50-95): 100%|██████████| 2/2 [00:00<00:00,  3.31it/s]"
          ]
        },
        {
          "output_type": "stream",
          "name": "stdout",
          "text": [
            "                   all         29         40      0.705      0.655      0.691      0.444\n"
          ]
        },
        {
          "output_type": "stream",
          "name": "stderr",
          "text": [
            "\n"
          ]
        },
        {
          "output_type": "stream",
          "name": "stdout",
          "text": [
            "\n",
            "      Epoch    GPU_mem   box_loss   cls_loss   dfl_loss  Instances       Size\n"
          ]
        },
        {
          "output_type": "stream",
          "name": "stderr",
          "text": [
            "     75/100      3.98G     0.9965     0.7997      1.332         18        640: 100%|██████████| 33/33 [00:09<00:00,  3.32it/s]\n",
            "                 Class     Images  Instances      Box(P          R      mAP50  mAP50-95): 100%|██████████| 2/2 [00:00<00:00,  2.26it/s]"
          ]
        },
        {
          "output_type": "stream",
          "name": "stdout",
          "text": [
            "                   all         29         40      0.858      0.584      0.659      0.418\n"
          ]
        },
        {
          "output_type": "stream",
          "name": "stderr",
          "text": [
            "\n"
          ]
        },
        {
          "output_type": "stream",
          "name": "stdout",
          "text": [
            "\n",
            "      Epoch    GPU_mem   box_loss   cls_loss   dfl_loss  Instances       Size\n"
          ]
        },
        {
          "output_type": "stream",
          "name": "stderr",
          "text": [
            "     76/100      3.96G      0.957     0.7658      1.297         15        640: 100%|██████████| 33/33 [00:09<00:00,  3.41it/s]\n",
            "                 Class     Images  Instances      Box(P          R      mAP50  mAP50-95): 100%|██████████| 2/2 [00:00<00:00,  2.51it/s]"
          ]
        },
        {
          "output_type": "stream",
          "name": "stdout",
          "text": [
            "                   all         29         40      0.938       0.58      0.659      0.418\n"
          ]
        },
        {
          "output_type": "stream",
          "name": "stderr",
          "text": [
            "\n"
          ]
        },
        {
          "output_type": "stream",
          "name": "stdout",
          "text": [
            "\n",
            "      Epoch    GPU_mem   box_loss   cls_loss   dfl_loss  Instances       Size\n"
          ]
        },
        {
          "output_type": "stream",
          "name": "stderr",
          "text": [
            "     77/100      3.99G      0.921     0.7569      1.262         18        640: 100%|██████████| 33/33 [00:09<00:00,  3.59it/s]\n",
            "                 Class     Images  Instances      Box(P          R      mAP50  mAP50-95): 100%|██████████| 2/2 [00:00<00:00,  4.09it/s]"
          ]
        },
        {
          "output_type": "stream",
          "name": "stdout",
          "text": [
            "                   all         29         40      0.868       0.58      0.687      0.422\n"
          ]
        },
        {
          "output_type": "stream",
          "name": "stderr",
          "text": [
            "\n"
          ]
        },
        {
          "output_type": "stream",
          "name": "stdout",
          "text": [
            "\n",
            "      Epoch    GPU_mem   box_loss   cls_loss   dfl_loss  Instances       Size\n"
          ]
        },
        {
          "output_type": "stream",
          "name": "stderr",
          "text": [
            "     78/100      3.98G     0.8795     0.7076      1.292         19        640: 100%|██████████| 33/33 [00:09<00:00,  3.46it/s]\n",
            "                 Class     Images  Instances      Box(P          R      mAP50  mAP50-95): 100%|██████████| 2/2 [00:00<00:00,  3.62it/s]"
          ]
        },
        {
          "output_type": "stream",
          "name": "stdout",
          "text": [
            "                   all         29         40      0.947      0.598        0.7      0.455\n"
          ]
        },
        {
          "output_type": "stream",
          "name": "stderr",
          "text": [
            "\n"
          ]
        },
        {
          "output_type": "stream",
          "name": "stdout",
          "text": [
            "\n",
            "      Epoch    GPU_mem   box_loss   cls_loss   dfl_loss  Instances       Size\n"
          ]
        },
        {
          "output_type": "stream",
          "name": "stderr",
          "text": [
            "     79/100      3.98G     0.8755     0.7199      1.265         16        640: 100%|██████████| 33/33 [00:10<00:00,  3.25it/s]\n",
            "                 Class     Images  Instances      Box(P          R      mAP50  mAP50-95): 100%|██████████| 2/2 [00:00<00:00,  3.63it/s]"
          ]
        },
        {
          "output_type": "stream",
          "name": "stdout",
          "text": [
            "                   all         29         40      0.946      0.561      0.675      0.437\n"
          ]
        },
        {
          "output_type": "stream",
          "name": "stderr",
          "text": [
            "\n"
          ]
        },
        {
          "output_type": "stream",
          "name": "stdout",
          "text": [
            "\n",
            "      Epoch    GPU_mem   box_loss   cls_loss   dfl_loss  Instances       Size\n"
          ]
        },
        {
          "output_type": "stream",
          "name": "stderr",
          "text": [
            "     80/100      3.99G     0.8818     0.7219      1.267         13        640: 100%|██████████| 33/33 [00:10<00:00,  3.25it/s]\n",
            "                 Class     Images  Instances      Box(P          R      mAP50  mAP50-95): 100%|██████████| 2/2 [00:00<00:00,  3.96it/s]"
          ]
        },
        {
          "output_type": "stream",
          "name": "stdout",
          "text": [
            "                   all         29         40      0.849      0.561      0.678      0.441\n"
          ]
        },
        {
          "output_type": "stream",
          "name": "stderr",
          "text": [
            "\n"
          ]
        },
        {
          "output_type": "stream",
          "name": "stdout",
          "text": [
            "\n",
            "      Epoch    GPU_mem   box_loss   cls_loss   dfl_loss  Instances       Size\n"
          ]
        },
        {
          "output_type": "stream",
          "name": "stderr",
          "text": [
            "     81/100      3.98G     0.9126     0.7344      1.283         24        640: 100%|██████████| 33/33 [00:10<00:00,  3.20it/s]\n",
            "                 Class     Images  Instances      Box(P          R      mAP50  mAP50-95): 100%|██████████| 2/2 [00:00<00:00,  3.64it/s]"
          ]
        },
        {
          "output_type": "stream",
          "name": "stdout",
          "text": [
            "                   all         29         40       0.73      0.615      0.669      0.427\n"
          ]
        },
        {
          "output_type": "stream",
          "name": "stderr",
          "text": [
            "\n"
          ]
        },
        {
          "output_type": "stream",
          "name": "stdout",
          "text": [
            "\n",
            "      Epoch    GPU_mem   box_loss   cls_loss   dfl_loss  Instances       Size\n"
          ]
        },
        {
          "output_type": "stream",
          "name": "stderr",
          "text": [
            "     82/100      3.97G     0.8519      0.671      1.256         20        640: 100%|██████████| 33/33 [00:09<00:00,  3.37it/s]\n",
            "                 Class     Images  Instances      Box(P          R      mAP50  mAP50-95): 100%|██████████| 2/2 [00:00<00:00,  2.38it/s]"
          ]
        },
        {
          "output_type": "stream",
          "name": "stdout",
          "text": [
            "                   all         29         40      0.865       0.58      0.647      0.414\n"
          ]
        },
        {
          "output_type": "stream",
          "name": "stderr",
          "text": [
            "\n"
          ]
        },
        {
          "output_type": "stream",
          "name": "stdout",
          "text": [
            "\n",
            "      Epoch    GPU_mem   box_loss   cls_loss   dfl_loss  Instances       Size\n"
          ]
        },
        {
          "output_type": "stream",
          "name": "stderr",
          "text": [
            "     83/100      3.95G     0.8745     0.7022      1.264         20        640: 100%|██████████| 33/33 [00:09<00:00,  3.61it/s]\n",
            "                 Class     Images  Instances      Box(P          R      mAP50  mAP50-95): 100%|██████████| 2/2 [00:00<00:00,  2.60it/s]"
          ]
        },
        {
          "output_type": "stream",
          "name": "stdout",
          "text": [
            "                   all         29         40      0.839      0.675      0.671      0.418\n"
          ]
        },
        {
          "output_type": "stream",
          "name": "stderr",
          "text": [
            "\n"
          ]
        },
        {
          "output_type": "stream",
          "name": "stdout",
          "text": [
            "\n",
            "      Epoch    GPU_mem   box_loss   cls_loss   dfl_loss  Instances       Size\n"
          ]
        },
        {
          "output_type": "stream",
          "name": "stderr",
          "text": [
            "     84/100      3.98G     0.8622        0.7      1.246         19        640: 100%|██████████| 33/33 [00:08<00:00,  3.68it/s]\n",
            "                 Class     Images  Instances      Box(P          R      mAP50  mAP50-95): 100%|██████████| 2/2 [00:00<00:00,  3.21it/s]"
          ]
        },
        {
          "output_type": "stream",
          "name": "stdout",
          "text": [
            "                   all         29         40      0.859      0.694      0.681      0.422\n"
          ]
        },
        {
          "output_type": "stream",
          "name": "stderr",
          "text": [
            "\n"
          ]
        },
        {
          "output_type": "stream",
          "name": "stdout",
          "text": [
            "\n",
            "      Epoch    GPU_mem   box_loss   cls_loss   dfl_loss  Instances       Size\n"
          ]
        },
        {
          "output_type": "stream",
          "name": "stderr",
          "text": [
            "     85/100      3.98G     0.8304     0.6737      1.238         10        640: 100%|██████████| 33/33 [00:09<00:00,  3.36it/s]\n",
            "                 Class     Images  Instances      Box(P          R      mAP50  mAP50-95): 100%|██████████| 2/2 [00:00<00:00,  3.73it/s]"
          ]
        },
        {
          "output_type": "stream",
          "name": "stdout",
          "text": [
            "                   all         29         40      0.793       0.69      0.731      0.436\n"
          ]
        },
        {
          "output_type": "stream",
          "name": "stderr",
          "text": [
            "\n"
          ]
        },
        {
          "output_type": "stream",
          "name": "stdout",
          "text": [
            "\n",
            "      Epoch    GPU_mem   box_loss   cls_loss   dfl_loss  Instances       Size\n"
          ]
        },
        {
          "output_type": "stream",
          "name": "stderr",
          "text": [
            "     86/100      3.98G     0.8529     0.6624      1.245         17        640: 100%|██████████| 33/33 [00:10<00:00,  3.22it/s]\n",
            "                 Class     Images  Instances      Box(P          R      mAP50  mAP50-95): 100%|██████████| 2/2 [00:00<00:00,  3.53it/s]"
          ]
        },
        {
          "output_type": "stream",
          "name": "stdout",
          "text": [
            "                   all         29         40      0.874      0.617      0.662      0.439\n"
          ]
        },
        {
          "output_type": "stream",
          "name": "stderr",
          "text": [
            "\n"
          ]
        },
        {
          "output_type": "stream",
          "name": "stdout",
          "text": [
            "\n",
            "      Epoch    GPU_mem   box_loss   cls_loss   dfl_loss  Instances       Size\n"
          ]
        },
        {
          "output_type": "stream",
          "name": "stderr",
          "text": [
            "     87/100      3.97G     0.8132     0.6682      1.231         18        640: 100%|██████████| 33/33 [00:10<00:00,  3.25it/s]\n",
            "                 Class     Images  Instances      Box(P          R      mAP50  mAP50-95): 100%|██████████| 2/2 [00:00<00:00,  3.85it/s]"
          ]
        },
        {
          "output_type": "stream",
          "name": "stdout",
          "text": [
            "                   all         29         40      0.878      0.605      0.671      0.435\n"
          ]
        },
        {
          "output_type": "stream",
          "name": "stderr",
          "text": [
            "\n"
          ]
        },
        {
          "output_type": "stream",
          "name": "stdout",
          "text": [
            "\n",
            "      Epoch    GPU_mem   box_loss   cls_loss   dfl_loss  Instances       Size\n"
          ]
        },
        {
          "output_type": "stream",
          "name": "stderr",
          "text": [
            "     88/100      3.97G      0.787     0.6225      1.212         16        640: 100%|██████████| 33/33 [00:10<00:00,  3.27it/s]\n",
            "                 Class     Images  Instances      Box(P          R      mAP50  mAP50-95): 100%|██████████| 2/2 [00:00<00:00,  3.67it/s]"
          ]
        },
        {
          "output_type": "stream",
          "name": "stdout",
          "text": [
            "                   all         29         40      0.742      0.637      0.666      0.436\n"
          ]
        },
        {
          "output_type": "stream",
          "name": "stderr",
          "text": [
            "\n"
          ]
        },
        {
          "output_type": "stream",
          "name": "stdout",
          "text": [
            "\n",
            "      Epoch    GPU_mem   box_loss   cls_loss   dfl_loss  Instances       Size\n"
          ]
        },
        {
          "output_type": "stream",
          "name": "stderr",
          "text": [
            "     89/100      3.98G     0.8153     0.6979      1.218         18        640: 100%|██████████| 33/33 [00:09<00:00,  3.46it/s]\n",
            "                 Class     Images  Instances      Box(P          R      mAP50  mAP50-95): 100%|██████████| 2/2 [00:00<00:00,  2.53it/s]"
          ]
        },
        {
          "output_type": "stream",
          "name": "stdout",
          "text": [
            "                   all         29         40      0.767      0.637      0.671      0.446\n"
          ]
        },
        {
          "output_type": "stream",
          "name": "stderr",
          "text": [
            "\n"
          ]
        },
        {
          "output_type": "stream",
          "name": "stdout",
          "text": [
            "\n",
            "      Epoch    GPU_mem   box_loss   cls_loss   dfl_loss  Instances       Size\n"
          ]
        },
        {
          "output_type": "stream",
          "name": "stderr",
          "text": [
            "     90/100      3.98G     0.8184      0.668      1.219         28        640: 100%|██████████| 33/33 [00:09<00:00,  3.64it/s]\n",
            "                 Class     Images  Instances      Box(P          R      mAP50  mAP50-95): 100%|██████████| 2/2 [00:00<00:00,  3.32it/s]"
          ]
        },
        {
          "output_type": "stream",
          "name": "stdout",
          "text": [
            "                   all         29         40      0.863      0.655      0.692      0.439\n"
          ]
        },
        {
          "output_type": "stream",
          "name": "stderr",
          "text": [
            "\n"
          ]
        },
        {
          "output_type": "stream",
          "name": "stdout",
          "text": [
            "Closing dataloader mosaic\n",
            "\u001b[34m\u001b[1malbumentations: \u001b[0mBlur(p=0.01, blur_limit=(3, 7)), MedianBlur(p=0.01, blur_limit=(3, 7)), ToGray(p=0.01), CLAHE(p=0.01, clip_limit=(1, 4.0), tile_grid_size=(8, 8))\n",
            "\n",
            "      Epoch    GPU_mem   box_loss   cls_loss   dfl_loss  Instances       Size\n"
          ]
        },
        {
          "output_type": "stream",
          "name": "stderr",
          "text": [
            "     91/100      3.95G     0.7315     0.5895      1.201          6        640: 100%|██████████| 33/33 [00:10<00:00,  3.16it/s]\n",
            "                 Class     Images  Instances      Box(P          R      mAP50  mAP50-95): 100%|██████████| 2/2 [00:00<00:00,  3.26it/s]"
          ]
        },
        {
          "output_type": "stream",
          "name": "stdout",
          "text": [
            "                   all         29         40       0.88      0.655        0.7      0.449\n"
          ]
        },
        {
          "output_type": "stream",
          "name": "stderr",
          "text": [
            "\n"
          ]
        },
        {
          "output_type": "stream",
          "name": "stdout",
          "text": [
            "\n",
            "      Epoch    GPU_mem   box_loss   cls_loss   dfl_loss  Instances       Size\n"
          ]
        },
        {
          "output_type": "stream",
          "name": "stderr",
          "text": [
            "     92/100      3.95G     0.7125     0.5778      1.218          9        640: 100%|██████████| 33/33 [00:09<00:00,  3.52it/s]\n",
            "                 Class     Images  Instances      Box(P          R      mAP50  mAP50-95): 100%|██████████| 2/2 [00:00<00:00,  3.85it/s]"
          ]
        },
        {
          "output_type": "stream",
          "name": "stdout",
          "text": [
            "                   all         29         40      0.744      0.655      0.682      0.438\n"
          ]
        },
        {
          "output_type": "stream",
          "name": "stderr",
          "text": [
            "\n"
          ]
        },
        {
          "output_type": "stream",
          "name": "stdout",
          "text": [
            "\n",
            "      Epoch    GPU_mem   box_loss   cls_loss   dfl_loss  Instances       Size\n"
          ]
        },
        {
          "output_type": "stream",
          "name": "stderr",
          "text": [
            "     93/100      3.98G     0.6847     0.5219      1.169         10        640: 100%|██████████| 33/33 [00:09<00:00,  3.32it/s]\n",
            "                 Class     Images  Instances      Box(P          R      mAP50  mAP50-95): 100%|██████████| 2/2 [00:00<00:00,  3.96it/s]"
          ]
        },
        {
          "output_type": "stream",
          "name": "stdout",
          "text": [
            "                   all         29         40      0.896       0.63      0.667      0.444\n"
          ]
        },
        {
          "output_type": "stream",
          "name": "stderr",
          "text": [
            "\n"
          ]
        },
        {
          "output_type": "stream",
          "name": "stdout",
          "text": [
            "\n",
            "      Epoch    GPU_mem   box_loss   cls_loss   dfl_loss  Instances       Size\n"
          ]
        },
        {
          "output_type": "stream",
          "name": "stderr",
          "text": [
            "     94/100      3.98G      0.705     0.5316      1.192          7        640: 100%|██████████| 33/33 [00:09<00:00,  3.37it/s]\n",
            "                 Class     Images  Instances      Box(P          R      mAP50  mAP50-95): 100%|██████████| 2/2 [00:00<00:00,  3.71it/s]"
          ]
        },
        {
          "output_type": "stream",
          "name": "stdout",
          "text": [
            "                   all         29         40      0.895      0.624      0.661      0.455\n"
          ]
        },
        {
          "output_type": "stream",
          "name": "stderr",
          "text": [
            "\n"
          ]
        },
        {
          "output_type": "stream",
          "name": "stdout",
          "text": [
            "\n",
            "      Epoch    GPU_mem   box_loss   cls_loss   dfl_loss  Instances       Size\n"
          ]
        },
        {
          "output_type": "stream",
          "name": "stderr",
          "text": [
            "     95/100      3.98G     0.6493     0.4913      1.108          6        640: 100%|██████████| 33/33 [00:09<00:00,  3.36it/s]\n",
            "                 Class     Images  Instances      Box(P          R      mAP50  mAP50-95): 100%|██████████| 2/2 [00:00<00:00,  4.02it/s]"
          ]
        },
        {
          "output_type": "stream",
          "name": "stdout",
          "text": [
            "                   all         29         40      0.705      0.637       0.66       0.43\n"
          ]
        },
        {
          "output_type": "stream",
          "name": "stderr",
          "text": [
            "\n"
          ]
        },
        {
          "output_type": "stream",
          "name": "stdout",
          "text": [
            "\n",
            "      Epoch    GPU_mem   box_loss   cls_loss   dfl_loss  Instances       Size\n"
          ]
        },
        {
          "output_type": "stream",
          "name": "stderr",
          "text": [
            "     96/100      3.97G     0.6534     0.4883      1.134         11        640: 100%|██████████| 33/33 [00:09<00:00,  3.38it/s]\n",
            "                 Class     Images  Instances      Box(P          R      mAP50  mAP50-95): 100%|██████████| 2/2 [00:00<00:00,  2.36it/s]"
          ]
        },
        {
          "output_type": "stream",
          "name": "stdout",
          "text": [
            "                   all         29         40      0.824      0.624      0.663      0.451\n"
          ]
        },
        {
          "output_type": "stream",
          "name": "stderr",
          "text": [
            "\n"
          ]
        },
        {
          "output_type": "stream",
          "name": "stdout",
          "text": [
            "\n",
            "      Epoch    GPU_mem   box_loss   cls_loss   dfl_loss  Instances       Size\n"
          ]
        },
        {
          "output_type": "stream",
          "name": "stderr",
          "text": [
            "     97/100      3.99G     0.6264     0.4678      1.141          9        640: 100%|██████████| 33/33 [00:09<00:00,  3.48it/s]\n",
            "                 Class     Images  Instances      Box(P          R      mAP50  mAP50-95): 100%|██████████| 2/2 [00:00<00:00,  3.77it/s]"
          ]
        },
        {
          "output_type": "stream",
          "name": "stdout",
          "text": [
            "                   all         29         40      0.846      0.618      0.678      0.454\n"
          ]
        },
        {
          "output_type": "stream",
          "name": "stderr",
          "text": [
            "\n"
          ]
        },
        {
          "output_type": "stream",
          "name": "stdout",
          "text": [
            "\n",
            "      Epoch    GPU_mem   box_loss   cls_loss   dfl_loss  Instances       Size\n"
          ]
        },
        {
          "output_type": "stream",
          "name": "stderr",
          "text": [
            "     98/100      3.97G     0.6465      0.479      1.135          9        640: 100%|██████████| 33/33 [00:09<00:00,  3.36it/s]\n",
            "                 Class     Images  Instances      Box(P          R      mAP50  mAP50-95): 100%|██████████| 2/2 [00:00<00:00,  4.04it/s]"
          ]
        },
        {
          "output_type": "stream",
          "name": "stdout",
          "text": [
            "                   all         29         40      0.735      0.675      0.678      0.453\n"
          ]
        },
        {
          "output_type": "stream",
          "name": "stderr",
          "text": [
            "\n"
          ]
        },
        {
          "output_type": "stream",
          "name": "stdout",
          "text": [
            "\n",
            "      Epoch    GPU_mem   box_loss   cls_loss   dfl_loss  Instances       Size\n"
          ]
        },
        {
          "output_type": "stream",
          "name": "stderr",
          "text": [
            "     99/100      3.95G     0.6534     0.4823      1.152          8        640: 100%|██████████| 33/33 [00:10<00:00,  3.17it/s]\n",
            "                 Class     Images  Instances      Box(P          R      mAP50  mAP50-95): 100%|██████████| 2/2 [00:00<00:00,  4.30it/s]"
          ]
        },
        {
          "output_type": "stream",
          "name": "stdout",
          "text": [
            "                   all         29         40      0.734      0.675      0.678      0.448\n"
          ]
        },
        {
          "output_type": "stream",
          "name": "stderr",
          "text": [
            "\n"
          ]
        },
        {
          "output_type": "stream",
          "name": "stdout",
          "text": [
            "\n",
            "      Epoch    GPU_mem   box_loss   cls_loss   dfl_loss  Instances       Size\n"
          ]
        },
        {
          "output_type": "stream",
          "name": "stderr",
          "text": [
            "    100/100      3.97G     0.6198     0.4599      1.136          6        640: 100%|██████████| 33/33 [00:10<00:00,  3.13it/s]\n",
            "                 Class     Images  Instances      Box(P          R      mAP50  mAP50-95): 100%|██████████| 2/2 [00:00<00:00,  3.62it/s]"
          ]
        },
        {
          "output_type": "stream",
          "name": "stdout",
          "text": [
            "                   all         29         40      0.804      0.637      0.675       0.45\n"
          ]
        },
        {
          "output_type": "stream",
          "name": "stderr",
          "text": [
            "\n"
          ]
        },
        {
          "output_type": "stream",
          "name": "stdout",
          "text": [
            "\n",
            "100 epochs completed in 0.343 hours.\n",
            "Optimizer stripped from runs/detect/train/weights/last.pt, 52.0MB\n",
            "Optimizer stripped from runs/detect/train/weights/best.pt, 52.0MB\n",
            "\n",
            "Validating runs/detect/train/weights/best.pt...\n",
            "Ultralytics YOLOv8.1.9 🚀 Python-3.10.12 torch-2.1.0+cu121 CUDA:0 (Tesla T4, 15102MiB)\n",
            "Model summary (fused): 218 layers, 25840918 parameters, 0 gradients, 78.7 GFLOPs\n"
          ]
        },
        {
          "output_type": "stream",
          "name": "stderr",
          "text": [
            "                 Class     Images  Instances      Box(P          R      mAP50  mAP50-95): 100%|██████████| 2/2 [00:00<00:00,  2.81it/s]\n"
          ]
        },
        {
          "output_type": "stream",
          "name": "stdout",
          "text": [
            "                   all         29         40      0.959       0.64      0.709       0.46\n",
            "             ambulance         29         27       0.96      0.895      0.928      0.608\n",
            "                 other         29         13      0.958      0.385      0.489      0.313\n",
            "Speed: 0.2ms preprocess, 12.2ms inference, 0.0ms loss, 2.3ms postprocess per image\n",
            "Results saved to \u001b[1mruns/detect/train\u001b[0m\n"
          ]
        }
      ]
    },
    {
      "cell_type": "code",
      "source": [
        "#to get off issues of UTF-8\n",
        "import locale\n",
        "locale.getpreferredencoding = lambda: \"UTF-8\""
      ],
      "metadata": {
        "id": "YdEkb5EZp4z2"
      },
      "execution_count": null,
      "outputs": []
    },
    {
      "cell_type": "code",
      "source": [
        "!scp -r /content/runs '/content/gdrive/MyDrive/SATS/Dataset/image_dataset'"
      ],
      "metadata": {
        "id": "UJ20-pyspTrb"
      },
      "execution_count": null,
      "outputs": []
    },
    {
      "cell_type": "code",
      "source": [
        "!zip -r /content/runs.zip /content/runs"
      ],
      "metadata": {
        "colab": {
          "base_uri": "https://localhost:8080/"
        },
        "id": "BbVp0Vv7ueoy",
        "outputId": "f4a100ca-e09f-4cff-9e76-78c54a0d0188"
      },
      "execution_count": null,
      "outputs": [
        {
          "output_type": "stream",
          "name": "stdout",
          "text": [
            "  adding: content/runs/ (stored 0%)\n",
            "  adding: content/runs/detect/ (stored 0%)\n",
            "  adding: content/runs/detect/predict/ (stored 0%)\n",
            "  adding: content/runs/detect/predict/samplevideo.avi (deflated 1%)\n",
            "  adding: content/runs/detect/predict/labels/ (stored 0%)\n",
            "  adding: content/runs/detect/predict/labels/samplevideo_69.txt (deflated 13%)\n",
            "  adding: content/runs/detect/predict/labels/samplevideo_295.txt (deflated 11%)\n",
            "  adding: content/runs/detect/predict/labels/samplevideo_219.txt (deflated 11%)\n",
            "  adding: content/runs/detect/predict/labels/samplevideo_121.txt (deflated 11%)\n",
            "  adding: content/runs/detect/predict/labels/samplevideo_173.txt (deflated 15%)\n",
            "  adding: content/runs/detect/predict/labels/samplevideo_176.txt (deflated 18%)\n",
            "  adding: content/runs/detect/predict/labels/samplevideo_110.txt (deflated 11%)\n",
            "  adding: content/runs/detect/predict/labels/samplevideo_64.txt (deflated 33%)\n",
            "  adding: content/runs/detect/predict/labels/samplevideo_231.txt (deflated 32%)\n",
            "  adding: content/runs/detect/predict/labels/samplevideo_293.txt (deflated 32%)\n",
            "  adding: content/runs/detect/predict/labels/samplevideo_87.txt (deflated 17%)\n",
            "  adding: content/runs/detect/predict/labels/samplevideo_286.txt (deflated 33%)\n",
            "  adding: content/runs/detect/predict/labels/samplevideo_107.txt (deflated 9%)\n",
            "  adding: content/runs/detect/predict/labels/samplevideo_262.txt (deflated 13%)\n",
            "  adding: content/runs/detect/predict/labels/samplevideo_224.txt (deflated 9%)\n",
            "  adding: content/runs/detect/predict/labels/samplevideo_6.txt (deflated 11%)\n",
            "  adding: content/runs/detect/predict/labels/samplevideo_115.txt (deflated 13%)\n",
            "  adding: content/runs/detect/predict/labels/samplevideo_260.txt (deflated 33%)\n",
            "  adding: content/runs/detect/predict/labels/samplevideo_256.txt (deflated 32%)\n",
            "  adding: content/runs/detect/predict/labels/samplevideo_233.txt (deflated 9%)\n",
            "  adding: content/runs/detect/predict/labels/samplevideo_271.txt (deflated 11%)\n",
            "  adding: content/runs/detect/predict/labels/samplevideo_113.txt (deflated 11%)\n",
            "  adding: content/runs/detect/predict/labels/samplevideo_85.txt (deflated 11%)\n",
            "  adding: content/runs/detect/predict/labels/samplevideo_281.txt (deflated 34%)\n",
            "  adding: content/runs/detect/predict/labels/samplevideo_243.txt (deflated 32%)\n",
            "  adding: content/runs/detect/predict/labels/samplevideo_66.txt (deflated 35%)\n",
            "  adding: content/runs/detect/predict/labels/samplevideo_195.txt (deflated 13%)\n",
            "  adding: content/runs/detect/predict/labels/samplevideo_191.txt (deflated 13%)\n",
            "  adding: content/runs/detect/predict/labels/samplevideo_188.txt (deflated 13%)\n",
            "  adding: content/runs/detect/predict/labels/samplevideo_47.txt (deflated 13%)\n",
            "  adding: content/runs/detect/predict/labels/samplevideo_71.txt (deflated 13%)\n",
            "  adding: content/runs/detect/predict/labels/samplevideo_248.txt (deflated 35%)\n",
            "  adding: content/runs/detect/predict/labels/samplevideo_214.txt (deflated 17%)\n",
            "  adding: content/runs/detect/predict/labels/samplevideo_244.txt (deflated 33%)\n",
            "  adding: content/runs/detect/predict/labels/samplevideo_93.txt (deflated 14%)\n",
            "  adding: content/runs/detect/predict/labels/samplevideo_76.txt (deflated 13%)\n",
            "  adding: content/runs/detect/predict/labels/samplevideo_269.txt (deflated 11%)\n",
            "  adding: content/runs/detect/predict/labels/samplevideo_226.txt (deflated 11%)\n",
            "  adding: content/runs/detect/predict/labels/samplevideo_215.txt (deflated 16%)\n",
            "  adding: content/runs/detect/predict/labels/samplevideo_190.txt (deflated 13%)\n",
            "  adding: content/runs/detect/predict/labels/samplevideo_292.txt (deflated 34%)\n",
            "  adding: content/runs/detect/predict/labels/samplevideo_180.txt (deflated 19%)\n",
            "  adding: content/runs/detect/predict/labels/samplevideo_104.txt (deflated 11%)\n",
            "  adding: content/runs/detect/predict/labels/samplevideo_193.txt (deflated 18%)\n",
            "  adding: content/runs/detect/predict/labels/samplevideo_240.txt (deflated 33%)\n",
            "  adding: content/runs/detect/predict/labels/samplevideo_70.txt (deflated 15%)\n",
            "  adding: content/runs/detect/predict/labels/samplevideo_296.txt (deflated 13%)\n",
            "  adding: content/runs/detect/predict/labels/samplevideo_44.txt (deflated 11%)\n",
            "  adding: content/runs/detect/predict/labels/samplevideo_268.txt (deflated 9%)\n",
            "  adding: content/runs/detect/predict/labels/samplevideo_205.txt (deflated 11%)\n",
            "  adding: content/runs/detect/predict/labels/samplevideo_179.txt (deflated 15%)\n",
            "  adding: content/runs/detect/predict/labels/samplevideo_57.txt (deflated 11%)\n",
            "  adding: content/runs/detect/predict/labels/samplevideo_184.txt (deflated 11%)\n",
            "  adding: content/runs/detect/predict/labels/samplevideo_74.txt (deflated 17%)\n",
            "  adding: content/runs/detect/predict/labels/samplevideo_20.txt (deflated 11%)\n",
            "  adding: content/runs/detect/predict/labels/samplevideo_258.txt (deflated 32%)\n",
            "  adding: content/runs/detect/predict/labels/samplevideo_156.txt (deflated 11%)\n",
            "  adding: content/runs/detect/predict/labels/samplevideo_230.txt (deflated 32%)\n",
            "  adding: content/runs/detect/predict/labels/samplevideo_167.txt (deflated 13%)\n",
            "  adding: content/runs/detect/predict/labels/samplevideo_220.txt (deflated 13%)\n",
            "  adding: content/runs/detect/predict/labels/samplevideo_223.txt (deflated 11%)\n",
            "  adding: content/runs/detect/predict/labels/samplevideo_235.txt (deflated 33%)\n",
            "  adding: content/runs/detect/predict/labels/samplevideo_135.txt (deflated 15%)\n",
            "  adding: content/runs/detect/predict/labels/samplevideo_229.txt (deflated 33%)\n",
            "  adding: content/runs/detect/predict/labels/samplevideo_89.txt (deflated 9%)\n",
            "  adding: content/runs/detect/predict/labels/samplevideo_142.txt (deflated 13%)\n",
            "  adding: content/runs/detect/predict/labels/samplevideo_116.txt (deflated 11%)\n",
            "  adding: content/runs/detect/predict/labels/samplevideo_225.txt (deflated 13%)\n",
            "  adding: content/runs/detect/predict/labels/samplevideo_236.txt (deflated 33%)\n",
            "  adding: content/runs/detect/predict/labels/samplevideo_153.txt (deflated 19%)\n",
            "  adding: content/runs/detect/predict/labels/samplevideo_255.txt (deflated 33%)\n",
            "  adding: content/runs/detect/predict/labels/samplevideo_192.txt (deflated 15%)\n",
            "  adding: content/runs/detect/predict/labels/samplevideo_50.txt (deflated 9%)\n",
            "  adding: content/runs/detect/predict/labels/samplevideo_196.txt (deflated 11%)\n",
            "  adding: content/runs/detect/predict/labels/samplevideo_275.txt (deflated 34%)\n",
            "  adding: content/runs/detect/predict/labels/samplevideo_152.txt (deflated 14%)\n",
            "  adding: content/runs/detect/predict/labels/samplevideo_88.txt (deflated 13%)\n",
            "  adding: content/runs/detect/predict/labels/samplevideo_96.txt (deflated 32%)\n",
            "  adding: content/runs/detect/predict/labels/samplevideo_232.txt (deflated 32%)\n",
            "  adding: content/runs/detect/predict/labels/samplevideo_157.txt (deflated 13%)\n",
            "  adding: content/runs/detect/predict/labels/samplevideo_65.txt (deflated 13%)\n",
            "  adding: content/runs/detect/predict/labels/samplevideo_92.txt (deflated 13%)\n",
            "  adding: content/runs/detect/predict/labels/samplevideo_133.txt (deflated 20%)\n",
            "  adding: content/runs/detect/predict/labels/samplevideo_228.txt (deflated 32%)\n",
            "  adding: content/runs/detect/predict/labels/samplevideo_72.txt (deflated 15%)\n",
            "  adding: content/runs/detect/predict/labels/samplevideo_106.txt (deflated 13%)\n",
            "  adding: content/runs/detect/predict/labels/samplevideo_109.txt (deflated 11%)\n",
            "  adding: content/runs/detect/predict/labels/samplevideo_103.txt (deflated 11%)\n",
            "  adding: content/runs/detect/predict/labels/samplevideo_291.txt (deflated 32%)\n",
            "  adding: content/runs/detect/predict/labels/samplevideo_125.txt (deflated 11%)\n",
            "  adding: content/runs/detect/predict/labels/samplevideo_199.txt (deflated 15%)\n",
            "  adding: content/runs/detect/predict/labels/samplevideo_177.txt (deflated 11%)\n",
            "  adding: content/runs/detect/predict/labels/samplevideo_124.txt (deflated 13%)\n",
            "  adding: content/runs/detect/predict/labels/samplevideo_21.txt (deflated 11%)\n",
            "  adding: content/runs/detect/predict/labels/samplevideo_163.txt (deflated 13%)\n",
            "  adding: content/runs/detect/predict/labels/samplevideo_222.txt (deflated 11%)\n",
            "  adding: content/runs/detect/predict/labels/samplevideo_212.txt (deflated 13%)\n",
            "  adding: content/runs/detect/predict/labels/samplevideo_241.txt (deflated 33%)\n",
            "  adding: content/runs/detect/predict/labels/samplevideo_259.txt (deflated 32%)\n",
            "  adding: content/runs/detect/predict/labels/samplevideo_62.txt (deflated 11%)\n",
            "  adding: content/runs/detect/predict/labels/samplevideo_284.txt (deflated 33%)\n",
            "  adding: content/runs/detect/predict/labels/samplevideo_267.txt (deflated 13%)\n",
            "  adding: content/runs/detect/predict/labels/samplevideo_170.txt (deflated 13%)\n",
            "  adding: content/runs/detect/predict/labels/samplevideo_265.txt (deflated 9%)\n",
            "  adding: content/runs/detect/predict/labels/samplevideo_111.txt (deflated 11%)\n",
            "  adding: content/runs/detect/predict/labels/samplevideo_198.txt (deflated 17%)\n",
            "  adding: content/runs/detect/predict/labels/samplevideo_172.txt (deflated 13%)\n",
            "  adding: content/runs/detect/predict/labels/samplevideo_282.txt (deflated 33%)\n",
            "  adding: content/runs/detect/predict/labels/samplevideo_68.txt (deflated 11%)\n",
            "  adding: content/runs/detect/predict/labels/samplevideo_227.txt (deflated 11%)\n",
            "  adding: content/runs/detect/predict/labels/samplevideo_182.txt (deflated 11%)\n",
            "  adding: content/runs/detect/predict/labels/samplevideo_165.txt (deflated 13%)\n",
            "  adding: content/runs/detect/predict/labels/samplevideo_155.txt (deflated 11%)\n",
            "  adding: content/runs/detect/predict/labels/samplevideo_126.txt (deflated 13%)\n",
            "  adding: content/runs/detect/predict/labels/samplevideo_263.txt (deflated 33%)\n",
            "  adding: content/runs/detect/predict/labels/samplevideo_75.txt (deflated 13%)\n",
            "  adding: content/runs/detect/predict/labels/samplevideo_264.txt (deflated 11%)\n",
            "  adding: content/runs/detect/predict/labels/samplevideo_139.txt (deflated 15%)\n",
            "  adding: content/runs/detect/predict/labels/samplevideo_277.txt (deflated 33%)\n",
            "  adding: content/runs/detect/predict/labels/samplevideo_67.txt (deflated 34%)\n",
            "  adding: content/runs/detect/predict/labels/samplevideo_158.txt (deflated 11%)\n",
            "  adding: content/runs/detect/predict/labels/samplevideo_168.txt (deflated 11%)\n",
            "  adding: content/runs/detect/predict/labels/samplevideo_162.txt (deflated 15%)\n",
            "  adding: content/runs/detect/predict/labels/samplevideo_185.txt (deflated 13%)\n",
            "  adding: content/runs/detect/predict/labels/samplevideo_97.txt (deflated 11%)\n",
            "  adding: content/runs/detect/predict/labels/samplevideo_41.txt (deflated 11%)\n",
            "  adding: content/runs/detect/predict/labels/samplevideo_45.txt (deflated 11%)\n",
            "  adding: content/runs/detect/predict/labels/samplevideo_274.txt (deflated 11%)\n",
            "  adding: content/runs/detect/predict/labels/samplevideo_245.txt (deflated 33%)\n",
            "  adding: content/runs/detect/predict/labels/samplevideo_117.txt (deflated 13%)\n",
            "  adding: content/runs/detect/predict/labels/samplevideo_189.txt (deflated 17%)\n",
            "  adding: content/runs/detect/predict/labels/samplevideo_82.txt (deflated 11%)\n",
            "  adding: content/runs/detect/predict/labels/samplevideo_46.txt (deflated 19%)\n",
            "  adding: content/runs/detect/predict/labels/samplevideo_54.txt (deflated 13%)\n",
            "  adding: content/runs/detect/predict/labels/samplevideo_100.txt (deflated 11%)\n",
            "  adding: content/runs/detect/predict/labels/samplevideo_272.txt (deflated 9%)\n",
            "  adding: content/runs/detect/predict/labels/samplevideo_83.txt (deflated 9%)\n",
            "  adding: content/runs/detect/predict/labels/samplevideo_203.txt (deflated 32%)\n",
            "  adding: content/runs/detect/predict/labels/samplevideo_237.txt (deflated 34%)\n",
            "  adding: content/runs/detect/predict/labels/samplevideo_105.txt (deflated 13%)\n",
            "  adding: content/runs/detect/predict/labels/samplevideo_197.txt (deflated 11%)\n",
            "  adding: content/runs/detect/predict/labels/samplevideo_249.txt (deflated 33%)\n",
            "  adding: content/runs/detect/predict/labels/samplevideo_78.txt (deflated 13%)\n",
            "  adding: content/runs/detect/predict/labels/samplevideo_134.txt (deflated 11%)\n",
            "  adding: content/runs/detect/predict/labels/samplevideo_208.txt (deflated 13%)\n",
            "  adding: content/runs/detect/predict/labels/samplevideo_151.txt (deflated 13%)\n",
            "  adding: content/runs/detect/predict/labels/samplevideo_238.txt (deflated 31%)\n",
            "  adding: content/runs/detect/predict/labels/samplevideo_49.txt (deflated 13%)\n",
            "  adding: content/runs/detect/predict/labels/samplevideo_48.txt (deflated 16%)\n",
            "  adding: content/runs/detect/predict/labels/samplevideo_201.txt (deflated 37%)\n",
            "  adding: content/runs/detect/predict/labels/samplevideo_63.txt (deflated 15%)\n",
            "  adding: content/runs/detect/predict/labels/samplevideo_287.txt (deflated 33%)\n",
            "  adding: content/runs/detect/predict/labels/samplevideo_270.txt (deflated 11%)\n",
            "  adding: content/runs/detect/predict/labels/samplevideo_55.txt (deflated 11%)\n",
            "  adding: content/runs/detect/predict/labels/samplevideo_216.txt (deflated 11%)\n",
            "  adding: content/runs/detect/predict/labels/samplevideo_178.txt (deflated 11%)\n",
            "  adding: content/runs/detect/predict/labels/samplevideo_43.txt (deflated 13%)\n",
            "  adding: content/runs/detect/predict/labels/samplevideo_221.txt (deflated 9%)\n",
            "  adding: content/runs/detect/predict/labels/samplevideo_38.txt (deflated 13%)\n",
            "  adding: content/runs/detect/predict/labels/samplevideo_246.txt (deflated 34%)\n",
            "  adding: content/runs/detect/predict/labels/samplevideo_112.txt (deflated 11%)\n",
            "  adding: content/runs/detect/predict/labels/samplevideo_266.txt (deflated 11%)\n",
            "  adding: content/runs/detect/predict/labels/samplevideo_120.txt (deflated 11%)\n",
            "  adding: content/runs/detect/predict/labels/samplevideo_90.txt (deflated 11%)\n",
            "  adding: content/runs/detect/predict/labels/samplevideo_213.txt (deflated 11%)\n",
            "  adding: content/runs/detect/predict/labels/samplevideo_86.txt (deflated 9%)\n",
            "  adding: content/runs/detect/predict/labels/samplevideo_73.txt (deflated 15%)\n",
            "  adding: content/runs/detect/predict/labels/samplevideo_218.txt (deflated 15%)\n",
            "  adding: content/runs/detect/predict/labels/samplevideo_132.txt (deflated 14%)\n",
            "  adding: content/runs/detect/predict/labels/samplevideo_279.txt (deflated 34%)\n",
            "  adding: content/runs/detect/predict/labels/samplevideo_250.txt (deflated 34%)\n",
            "  adding: content/runs/detect/predict/labels/samplevideo_84.txt (deflated 13%)\n",
            "  adding: content/runs/detect/predict/labels/samplevideo_99.txt (deflated 33%)\n",
            "  adding: content/runs/detect/predict/labels/samplevideo_239.txt (deflated 32%)\n",
            "  adding: content/runs/detect/predict/labels/samplevideo_278.txt (deflated 32%)\n",
            "  adding: content/runs/detect/predict/labels/samplevideo_187.txt (deflated 13%)\n",
            "  adding: content/runs/detect/predict/labels/samplevideo_130.txt (deflated 17%)\n",
            "  adding: content/runs/detect/predict/labels/samplevideo_141.txt (deflated 18%)\n",
            "  adding: content/runs/detect/predict/labels/samplevideo_257.txt (deflated 34%)\n",
            "  adding: content/runs/detect/predict/labels/samplevideo_60.txt (deflated 13%)\n",
            "  adding: content/runs/detect/predict/labels/samplevideo_207.txt (deflated 13%)\n",
            "  adding: content/runs/detect/predict/labels/samplevideo_108.txt (deflated 11%)\n",
            "  adding: content/runs/detect/predict/labels/samplevideo_122.txt (deflated 11%)\n",
            "  adding: content/runs/detect/predict/labels/samplevideo_210.txt (deflated 21%)\n",
            "  adding: content/runs/detect/predict/labels/samplevideo_95.txt (deflated 13%)\n",
            "  adding: content/runs/detect/predict/labels/samplevideo_217.txt (deflated 20%)\n",
            "  adding: content/runs/detect/predict/labels/samplevideo_166.txt (deflated 13%)\n",
            "  adding: content/runs/detect/predict/labels/samplevideo_79.txt (deflated 11%)\n",
            "  adding: content/runs/detect/predict/labels/samplevideo_174.txt (deflated 13%)\n",
            "  adding: content/runs/detect/predict/labels/samplevideo_280.txt (deflated 32%)\n",
            "  adding: content/runs/detect/predict/labels/samplevideo_288.txt (deflated 34%)\n",
            "  adding: content/runs/detect/predict/labels/samplevideo_119.txt (deflated 11%)\n",
            "  adding: content/runs/detect/predict/labels/samplevideo_289.txt (deflated 33%)\n",
            "  adding: content/runs/detect/predict/labels/samplevideo_58.txt (deflated 11%)\n",
            "  adding: content/runs/detect/predict/labels/samplevideo_261.txt (deflated 13%)\n",
            "  adding: content/runs/detect/predict/labels/samplevideo_209.txt (deflated 11%)\n",
            "  adding: content/runs/detect/predict/labels/samplevideo_154.txt (deflated 13%)\n",
            "  adding: content/runs/detect/predict/labels/samplevideo_77.txt (deflated 15%)\n",
            "  adding: content/runs/detect/predict/labels/samplevideo_159.txt (deflated 13%)\n",
            "  adding: content/runs/detect/predict/labels/samplevideo_81.txt (deflated 11%)\n",
            "  adding: content/runs/detect/predict/labels/samplevideo_254.txt (deflated 34%)\n",
            "  adding: content/runs/detect/predict/labels/samplevideo_211.txt (deflated 11%)\n",
            "  adding: content/runs/detect/predict/labels/samplevideo_202.txt (deflated 32%)\n",
            "  adding: content/runs/detect/predict/labels/samplevideo_53.txt (deflated 9%)\n",
            "  adding: content/runs/detect/predict/labels/samplevideo_242.txt (deflated 31%)\n",
            "  adding: content/runs/detect/predict/labels/samplevideo_273.txt (deflated 9%)\n",
            "  adding: content/runs/detect/predict/labels/samplevideo_175.txt (deflated 15%)\n",
            "  adding: content/runs/detect/predict/labels/samplevideo_164.txt (deflated 11%)\n",
            "  adding: content/runs/detect/predict/labels/samplevideo_234.txt (deflated 34%)\n",
            "  adding: content/runs/detect/predict/labels/samplevideo_102.txt (deflated 15%)\n",
            "  adding: content/runs/detect/predict/labels/samplevideo_294.txt (deflated 33%)\n",
            "  adding: content/runs/detect/predict/labels/samplevideo_39.txt (deflated 13%)\n",
            "  adding: content/runs/detect/predict/labels/samplevideo_94.txt (deflated 11%)\n",
            "  adding: content/runs/detect/predict/labels/samplevideo_247.txt (deflated 32%)\n",
            "  adding: content/runs/detect/predict/labels/samplevideo_206.txt (deflated 32%)\n",
            "  adding: content/runs/detect/predict/labels/samplevideo_252.txt (deflated 31%)\n",
            "  adding: content/runs/detect/predict/labels/samplevideo_40.txt (deflated 13%)\n",
            "  adding: content/runs/detect/predict/labels/samplevideo_136.txt (deflated 11%)\n",
            "  adding: content/runs/detect/predict/labels/samplevideo_204.txt (deflated 33%)\n",
            "  adding: content/runs/detect/predict/labels/samplevideo_42.txt (deflated 13%)\n",
            "  adding: content/runs/detect/predict/labels/samplevideo_51.txt (deflated 11%)\n",
            "  adding: content/runs/detect/predict/labels/samplevideo_276.txt (deflated 32%)\n",
            "  adding: content/runs/detect/predict/labels/samplevideo_251.txt (deflated 31%)\n",
            "  adding: content/runs/detect/predict/labels/samplevideo_200.txt (deflated 34%)\n",
            "  adding: content/runs/detect/predict/labels/samplevideo_101.txt (deflated 11%)\n",
            "  adding: content/runs/detect/predict/labels/samplevideo_148.txt (deflated 17%)\n",
            "  adding: content/runs/detect/predict/labels/samplevideo_297.txt (deflated 11%)\n",
            "  adding: content/runs/detect/predict/labels/samplevideo_91.txt (deflated 13%)\n",
            "  adding: content/runs/detect/predict/labels/samplevideo_131.txt (deflated 18%)\n",
            "  adding: content/runs/detect/predict/labels/samplevideo_171.txt (deflated 19%)\n",
            "  adding: content/runs/detect/predict/labels/samplevideo_283.txt (deflated 32%)\n",
            "  adding: content/runs/detect/predict/labels/samplevideo_160.txt (deflated 13%)\n",
            "  adding: content/runs/detect/predict/labels/samplevideo_186.txt (deflated 9%)\n",
            "  adding: content/runs/detect/predict/labels/samplevideo_127.txt (deflated 15%)\n",
            "  adding: content/runs/detect/predict/labels/samplevideo_161.txt (deflated 13%)\n",
            "  adding: content/runs/detect/predict/labels/samplevideo_183.txt (deflated 11%)\n",
            "  adding: content/runs/detect/predict/labels/samplevideo_59.txt (deflated 11%)\n",
            "  adding: content/runs/detect/predict/labels/samplevideo_290.txt (deflated 33%)\n",
            "  adding: content/runs/detect/predict/labels/samplevideo_169.txt (deflated 13%)\n",
            "  adding: content/runs/detect/predict/labels/samplevideo_52.txt (deflated 11%)\n",
            "  adding: content/runs/detect/predict/labels/samplevideo_61.txt (deflated 13%)\n",
            "  adding: content/runs/detect/predict/labels/samplevideo_98.txt (deflated 32%)\n",
            "  adding: content/runs/detect/predict/labels/samplevideo_181.txt (deflated 13%)\n",
            "  adding: content/runs/detect/predict/labels/samplevideo_128.txt (deflated 11%)\n",
            "  adding: content/runs/detect/predict/labels/samplevideo_253.txt (deflated 33%)\n",
            "  adding: content/runs/detect/predict/labels/samplevideo_114.txt (deflated 11%)\n",
            "  adding: content/runs/detect/predict/labels/samplevideo_285.txt (deflated 32%)\n",
            "  adding: content/runs/detect/predict/labels/samplevideo_80.txt (deflated 11%)\n",
            "  adding: content/runs/detect/predict/labels/samplevideo_56.txt (deflated 11%)\n",
            "  adding: content/runs/detect/predict/labels/samplevideo_123.txt (deflated 13%)\n",
            "  adding: content/runs/detect/predict/labels/samplevideo_194.txt (deflated 13%)\n",
            "  adding: content/runs/detect/predict/labels/samplevideo_14.txt (deflated 11%)\n",
            "  adding: content/runs/detect/train/ (stored 0%)\n",
            "  adding: content/runs/detect/train/results.png (deflated 7%)\n",
            "  adding: content/runs/detect/train/PR_curve.png (deflated 20%)\n",
            "  adding: content/runs/detect/train/args.yaml (deflated 53%)\n",
            "  adding: content/runs/detect/train/R_curve.png (deflated 15%)\n",
            "  adding: content/runs/detect/train/train_batch2970.jpg (deflated 5%)\n",
            "  adding: content/runs/detect/train/labels_correlogram.jpg (deflated 42%)\n",
            "  adding: content/runs/detect/train/val_batch0_labels.jpg (deflated 6%)\n",
            "  adding: content/runs/detect/train/train_batch2972.jpg (deflated 7%)\n",
            "  adding: content/runs/detect/train/train_batch1.jpg (deflated 3%)\n",
            "  adding: content/runs/detect/train/train_batch2.jpg (deflated 3%)\n",
            "  adding: content/runs/detect/train/val_batch1_pred.jpg (deflated 7%)\n",
            "  adding: content/runs/detect/train/confusion_matrix.png (deflated 38%)\n",
            "  adding: content/runs/detect/train/val_batch0_pred.jpg (deflated 5%)\n",
            "  adding: content/runs/detect/train/train_batch2971.jpg (deflated 7%)\n",
            "  adding: content/runs/detect/train/P_curve.png (deflated 13%)\n",
            "  adding: content/runs/detect/train/confusion_matrix_normalized.png (deflated 33%)\n",
            "  adding: content/runs/detect/train/F1_curve.png (deflated 11%)\n",
            "  adding: content/runs/detect/train/labels.jpg (deflated 29%)\n",
            "  adding: content/runs/detect/train/events.out.tfevents.1707144240.7128ec0235f7.429.0 (deflated 91%)\n",
            "  adding: content/runs/detect/train/weights/ (stored 0%)\n",
            "  adding: content/runs/detect/train/weights/last.pt (deflated 8%)\n",
            "  adding: content/runs/detect/train/weights/best.pt (deflated 8%)\n",
            "  adding: content/runs/detect/train/train_batch0.jpg (deflated 4%)\n",
            "  adding: content/runs/detect/train/results.csv (deflated 85%)\n",
            "  adding: content/runs/detect/train/val_batch1_labels.jpg (deflated 7%)\n"
          ]
        }
      ]
    },
    {
      "cell_type": "code",
      "source": [
        "import os\n",
        "from ultralytics import YOLO\n",
        "#Run the below commented for local inference\n",
        "# model = YOLO(model = '/content/gdrive/MyDrive/SATS/Dataset/image_dataset/runs/detect/train5/weights/best.pt')\n",
        "# predict = model.predict(source = '/content/samplevideo.mp4')\n",
        "\n",
        "#use below command for colab inference or CLI inference\n",
        "!yolo task=detect mode=predict model=/content/gdrive/MyDrive/SATS/Dataset/image_dataset/runs/detect/train5/weights/best.pt conf=0.7 source=/content/samplevideo.mp4 save_txt=true save_conf=true"
      ],
      "metadata": {
        "id": "X3P-P6fqr5Xt",
        "colab": {
          "base_uri": "https://localhost:8080/"
        },
        "outputId": "4537b0b1-f086-422c-90d3-277805219f9a"
      },
      "execution_count": null,
      "outputs": [
        {
          "output_type": "stream",
          "name": "stdout",
          "text": [
            "Ultralytics YOLOv8.1.9 🚀 Python-3.10.12 torch-2.1.0+cu121 CUDA:0 (Tesla T4, 15102MiB)\n",
            "Model summary (fused): 218 layers, 25840918 parameters, 0 gradients, 78.7 GFLOPs\n",
            "\n",
            "video 1/1 (1/297) /content/samplevideo.mp4: 384x640 (no detections), 122.0ms\n",
            "video 1/1 (2/297) /content/samplevideo.mp4: 384x640 (no detections), 25.2ms\n",
            "video 1/1 (3/297) /content/samplevideo.mp4: 384x640 (no detections), 25.1ms\n",
            "video 1/1 (4/297) /content/samplevideo.mp4: 384x640 (no detections), 25.1ms\n",
            "video 1/1 (5/297) /content/samplevideo.mp4: 384x640 (no detections), 25.1ms\n",
            "video 1/1 (6/297) /content/samplevideo.mp4: 384x640 1 other, 25.1ms\n",
            "video 1/1 (7/297) /content/samplevideo.mp4: 384x640 (no detections), 25.1ms\n",
            "video 1/1 (8/297) /content/samplevideo.mp4: 384x640 (no detections), 25.1ms\n",
            "video 1/1 (9/297) /content/samplevideo.mp4: 384x640 (no detections), 25.1ms\n",
            "video 1/1 (10/297) /content/samplevideo.mp4: 384x640 (no detections), 25.1ms\n",
            "video 1/1 (11/297) /content/samplevideo.mp4: 384x640 (no detections), 21.8ms\n",
            "video 1/1 (12/297) /content/samplevideo.mp4: 384x640 (no detections), 19.9ms\n",
            "video 1/1 (13/297) /content/samplevideo.mp4: 384x640 (no detections), 20.0ms\n",
            "video 1/1 (14/297) /content/samplevideo.mp4: 384x640 1 other, 19.9ms\n",
            "video 1/1 (15/297) /content/samplevideo.mp4: 384x640 (no detections), 20.0ms\n",
            "video 1/1 (16/297) /content/samplevideo.mp4: 384x640 (no detections), 17.5ms\n",
            "video 1/1 (17/297) /content/samplevideo.mp4: 384x640 (no detections), 17.0ms\n",
            "video 1/1 (18/297) /content/samplevideo.mp4: 384x640 (no detections), 17.0ms\n",
            "video 1/1 (19/297) /content/samplevideo.mp4: 384x640 (no detections), 17.0ms\n",
            "video 1/1 (20/297) /content/samplevideo.mp4: 384x640 1 other, 17.0ms\n",
            "video 1/1 (21/297) /content/samplevideo.mp4: 384x640 1 other, 16.7ms\n",
            "video 1/1 (22/297) /content/samplevideo.mp4: 384x640 (no detections), 15.1ms\n",
            "video 1/1 (23/297) /content/samplevideo.mp4: 384x640 (no detections), 14.9ms\n",
            "video 1/1 (24/297) /content/samplevideo.mp4: 384x640 (no detections), 14.9ms\n",
            "video 1/1 (25/297) /content/samplevideo.mp4: 384x640 (no detections), 14.9ms\n",
            "video 1/1 (26/297) /content/samplevideo.mp4: 384x640 (no detections), 14.9ms\n",
            "video 1/1 (27/297) /content/samplevideo.mp4: 384x640 (no detections), 14.9ms\n",
            "video 1/1 (28/297) /content/samplevideo.mp4: 384x640 (no detections), 14.9ms\n",
            "video 1/1 (29/297) /content/samplevideo.mp4: 384x640 (no detections), 14.9ms\n",
            "video 1/1 (30/297) /content/samplevideo.mp4: 384x640 (no detections), 14.9ms\n",
            "video 1/1 (31/297) /content/samplevideo.mp4: 384x640 (no detections), 14.7ms\n",
            "video 1/1 (32/297) /content/samplevideo.mp4: 384x640 (no detections), 14.3ms\n",
            "video 1/1 (33/297) /content/samplevideo.mp4: 384x640 (no detections), 14.3ms\n",
            "video 1/1 (34/297) /content/samplevideo.mp4: 384x640 (no detections), 14.3ms\n",
            "video 1/1 (35/297) /content/samplevideo.mp4: 384x640 (no detections), 14.1ms\n",
            "video 1/1 (36/297) /content/samplevideo.mp4: 384x640 (no detections), 14.1ms\n",
            "video 1/1 (37/297) /content/samplevideo.mp4: 384x640 (no detections), 14.0ms\n",
            "video 1/1 (38/297) /content/samplevideo.mp4: 384x640 1 ambulance, 14.1ms\n",
            "video 1/1 (39/297) /content/samplevideo.mp4: 384x640 1 ambulance, 13.5ms\n",
            "video 1/1 (40/297) /content/samplevideo.mp4: 384x640 1 ambulance, 13.5ms\n",
            "video 1/1 (41/297) /content/samplevideo.mp4: 384x640 1 ambulance, 13.3ms\n",
            "video 1/1 (42/297) /content/samplevideo.mp4: 384x640 1 ambulance, 13.4ms\n",
            "video 1/1 (43/297) /content/samplevideo.mp4: 384x640 1 ambulance, 13.3ms\n",
            "video 1/1 (44/297) /content/samplevideo.mp4: 384x640 1 ambulance, 14.8ms\n",
            "video 1/1 (45/297) /content/samplevideo.mp4: 384x640 1 ambulance, 13.4ms\n",
            "video 1/1 (46/297) /content/samplevideo.mp4: 384x640 1 ambulance, 13.5ms\n",
            "video 1/1 (47/297) /content/samplevideo.mp4: 384x640 1 ambulance, 13.9ms\n",
            "video 1/1 (48/297) /content/samplevideo.mp4: 384x640 1 ambulance, 13.3ms\n",
            "video 1/1 (49/297) /content/samplevideo.mp4: 384x640 1 ambulance, 18.8ms\n",
            "video 1/1 (50/297) /content/samplevideo.mp4: 384x640 1 ambulance, 15.0ms\n",
            "video 1/1 (51/297) /content/samplevideo.mp4: 384x640 1 ambulance, 19.4ms\n",
            "video 1/1 (52/297) /content/samplevideo.mp4: 384x640 1 ambulance, 13.4ms\n",
            "video 1/1 (53/297) /content/samplevideo.mp4: 384x640 1 ambulance, 13.4ms\n",
            "video 1/1 (54/297) /content/samplevideo.mp4: 384x640 1 ambulance, 13.8ms\n",
            "video 1/1 (55/297) /content/samplevideo.mp4: 384x640 1 ambulance, 16.8ms\n",
            "video 1/1 (56/297) /content/samplevideo.mp4: 384x640 1 ambulance, 13.6ms\n",
            "video 1/1 (57/297) /content/samplevideo.mp4: 384x640 1 ambulance, 13.4ms\n",
            "video 1/1 (58/297) /content/samplevideo.mp4: 384x640 1 ambulance, 13.4ms\n",
            "video 1/1 (59/297) /content/samplevideo.mp4: 384x640 1 ambulance, 13.4ms\n",
            "video 1/1 (60/297) /content/samplevideo.mp4: 384x640 1 ambulance, 13.4ms\n",
            "video 1/1 (61/297) /content/samplevideo.mp4: 384x640 1 ambulance, 13.4ms\n",
            "video 1/1 (62/297) /content/samplevideo.mp4: 384x640 1 ambulance, 14.6ms\n",
            "video 1/1 (63/297) /content/samplevideo.mp4: 384x640 1 ambulance, 13.4ms\n",
            "video 1/1 (64/297) /content/samplevideo.mp4: 384x640 1 ambulance, 1 other, 15.8ms\n",
            "video 1/1 (65/297) /content/samplevideo.mp4: 384x640 1 ambulance, 13.4ms\n",
            "video 1/1 (66/297) /content/samplevideo.mp4: 384x640 1 ambulance, 1 other, 16.5ms\n",
            "video 1/1 (67/297) /content/samplevideo.mp4: 384x640 1 ambulance, 1 other, 13.8ms\n",
            "video 1/1 (68/297) /content/samplevideo.mp4: 384x640 1 ambulance, 13.4ms\n",
            "video 1/1 (69/297) /content/samplevideo.mp4: 384x640 1 ambulance, 13.4ms\n",
            "video 1/1 (70/297) /content/samplevideo.mp4: 384x640 1 ambulance, 13.3ms\n",
            "video 1/1 (71/297) /content/samplevideo.mp4: 384x640 1 ambulance, 13.7ms\n",
            "video 1/1 (72/297) /content/samplevideo.mp4: 384x640 1 ambulance, 13.3ms\n",
            "video 1/1 (73/297) /content/samplevideo.mp4: 384x640 1 ambulance, 17.1ms\n",
            "video 1/1 (74/297) /content/samplevideo.mp4: 384x640 1 ambulance, 17.7ms\n",
            "video 1/1 (75/297) /content/samplevideo.mp4: 384x640 1 ambulance, 13.4ms\n",
            "video 1/1 (76/297) /content/samplevideo.mp4: 384x640 1 ambulance, 16.0ms\n",
            "video 1/1 (77/297) /content/samplevideo.mp4: 384x640 1 ambulance, 15.6ms\n",
            "video 1/1 (78/297) /content/samplevideo.mp4: 384x640 1 ambulance, 16.2ms\n",
            "video 1/1 (79/297) /content/samplevideo.mp4: 384x640 1 ambulance, 16.3ms\n",
            "video 1/1 (80/297) /content/samplevideo.mp4: 384x640 1 ambulance, 16.1ms\n",
            "video 1/1 (81/297) /content/samplevideo.mp4: 384x640 1 ambulance, 16.4ms\n",
            "video 1/1 (82/297) /content/samplevideo.mp4: 384x640 1 ambulance, 16.4ms\n",
            "video 1/1 (83/297) /content/samplevideo.mp4: 384x640 1 ambulance, 16.2ms\n",
            "video 1/1 (84/297) /content/samplevideo.mp4: 384x640 1 ambulance, 16.2ms\n",
            "video 1/1 (85/297) /content/samplevideo.mp4: 384x640 1 ambulance, 16.7ms\n",
            "video 1/1 (86/297) /content/samplevideo.mp4: 384x640 1 ambulance, 16.7ms\n",
            "video 1/1 (87/297) /content/samplevideo.mp4: 384x640 1 ambulance, 16.6ms\n",
            "video 1/1 (88/297) /content/samplevideo.mp4: 384x640 1 ambulance, 18.1ms\n",
            "video 1/1 (89/297) /content/samplevideo.mp4: 384x640 1 ambulance, 17.0ms\n",
            "video 1/1 (90/297) /content/samplevideo.mp4: 384x640 1 ambulance, 17.0ms\n",
            "video 1/1 (91/297) /content/samplevideo.mp4: 384x640 1 ambulance, 17.0ms\n",
            "video 1/1 (92/297) /content/samplevideo.mp4: 384x640 1 ambulance, 17.2ms\n",
            "video 1/1 (93/297) /content/samplevideo.mp4: 384x640 1 ambulance, 17.2ms\n",
            "video 1/1 (94/297) /content/samplevideo.mp4: 384x640 1 ambulance, 17.2ms\n",
            "video 1/1 (95/297) /content/samplevideo.mp4: 384x640 1 ambulance, 17.2ms\n",
            "video 1/1 (96/297) /content/samplevideo.mp4: 384x640 1 ambulance, 1 other, 17.4ms\n",
            "video 1/1 (97/297) /content/samplevideo.mp4: 384x640 1 ambulance, 17.5ms\n",
            "video 1/1 (98/297) /content/samplevideo.mp4: 384x640 1 ambulance, 1 other, 17.8ms\n",
            "video 1/1 (99/297) /content/samplevideo.mp4: 384x640 1 ambulance, 1 other, 18.5ms\n",
            "video 1/1 (100/297) /content/samplevideo.mp4: 384x640 1 ambulance, 17.7ms\n",
            "video 1/1 (101/297) /content/samplevideo.mp4: 384x640 1 ambulance, 18.4ms\n",
            "video 1/1 (102/297) /content/samplevideo.mp4: 384x640 1 ambulance, 17.7ms\n",
            "video 1/1 (103/297) /content/samplevideo.mp4: 384x640 1 ambulance, 18.0ms\n",
            "video 1/1 (104/297) /content/samplevideo.mp4: 384x640 1 ambulance, 18.9ms\n",
            "video 1/1 (105/297) /content/samplevideo.mp4: 384x640 1 ambulance, 17.9ms\n",
            "video 1/1 (106/297) /content/samplevideo.mp4: 384x640 1 ambulance, 19.8ms\n",
            "video 1/1 (107/297) /content/samplevideo.mp4: 384x640 1 ambulance, 18.2ms\n",
            "video 1/1 (108/297) /content/samplevideo.mp4: 384x640 1 ambulance, 18.2ms\n",
            "video 1/1 (109/297) /content/samplevideo.mp4: 384x640 1 ambulance, 18.3ms\n",
            "video 1/1 (110/297) /content/samplevideo.mp4: 384x640 1 ambulance, 21.6ms\n",
            "video 1/1 (111/297) /content/samplevideo.mp4: 384x640 1 ambulance, 18.5ms\n",
            "video 1/1 (112/297) /content/samplevideo.mp4: 384x640 1 ambulance, 18.5ms\n",
            "video 1/1 (113/297) /content/samplevideo.mp4: 384x640 1 ambulance, 18.6ms\n",
            "video 1/1 (114/297) /content/samplevideo.mp4: 384x640 1 ambulance, 18.8ms\n",
            "video 1/1 (115/297) /content/samplevideo.mp4: 384x640 1 ambulance, 18.8ms\n",
            "video 1/1 (116/297) /content/samplevideo.mp4: 384x640 1 ambulance, 18.8ms\n",
            "video 1/1 (117/297) /content/samplevideo.mp4: 384x640 1 ambulance, 18.8ms\n",
            "video 1/1 (118/297) /content/samplevideo.mp4: 384x640 (no detections), 18.8ms\n",
            "video 1/1 (119/297) /content/samplevideo.mp4: 384x640 1 ambulance, 18.7ms\n",
            "video 1/1 (120/297) /content/samplevideo.mp4: 384x640 1 ambulance, 18.7ms\n",
            "video 1/1 (121/297) /content/samplevideo.mp4: 384x640 1 ambulance, 18.7ms\n",
            "video 1/1 (122/297) /content/samplevideo.mp4: 384x640 1 ambulance, 18.2ms\n",
            "video 1/1 (123/297) /content/samplevideo.mp4: 384x640 1 ambulance, 18.2ms\n",
            "video 1/1 (124/297) /content/samplevideo.mp4: 384x640 1 ambulance, 18.2ms\n",
            "video 1/1 (125/297) /content/samplevideo.mp4: 384x640 1 ambulance, 18.2ms\n",
            "video 1/1 (126/297) /content/samplevideo.mp4: 384x640 1 ambulance, 18.2ms\n",
            "video 1/1 (127/297) /content/samplevideo.mp4: 384x640 1 ambulance, 16.4ms\n",
            "video 1/1 (128/297) /content/samplevideo.mp4: 384x640 1 ambulance, 16.5ms\n",
            "video 1/1 (129/297) /content/samplevideo.mp4: 384x640 (no detections), 16.3ms\n",
            "video 1/1 (130/297) /content/samplevideo.mp4: 384x640 1 ambulance, 16.2ms\n",
            "video 1/1 (131/297) /content/samplevideo.mp4: 384x640 1 ambulance, 16.1ms\n",
            "video 1/1 (132/297) /content/samplevideo.mp4: 384x640 1 ambulance, 16.0ms\n",
            "video 1/1 (133/297) /content/samplevideo.mp4: 384x640 1 ambulance, 16.0ms\n",
            "video 1/1 (134/297) /content/samplevideo.mp4: 384x640 1 ambulance, 16.1ms\n",
            "video 1/1 (135/297) /content/samplevideo.mp4: 384x640 1 ambulance, 15.8ms\n",
            "video 1/1 (136/297) /content/samplevideo.mp4: 384x640 1 ambulance, 15.9ms\n",
            "video 1/1 (137/297) /content/samplevideo.mp4: 384x640 (no detections), 15.8ms\n",
            "video 1/1 (138/297) /content/samplevideo.mp4: 384x640 (no detections), 15.7ms\n",
            "video 1/1 (139/297) /content/samplevideo.mp4: 384x640 1 ambulance, 15.7ms\n",
            "video 1/1 (140/297) /content/samplevideo.mp4: 384x640 (no detections), 15.5ms\n",
            "video 1/1 (141/297) /content/samplevideo.mp4: 384x640 1 ambulance, 15.6ms\n",
            "video 1/1 (142/297) /content/samplevideo.mp4: 384x640 1 ambulance, 15.4ms\n",
            "video 1/1 (143/297) /content/samplevideo.mp4: 384x640 (no detections), 14.6ms\n",
            "video 1/1 (144/297) /content/samplevideo.mp4: 384x640 (no detections), 14.6ms\n",
            "video 1/1 (145/297) /content/samplevideo.mp4: 384x640 (no detections), 14.6ms\n",
            "video 1/1 (146/297) /content/samplevideo.mp4: 384x640 (no detections), 14.3ms\n",
            "video 1/1 (147/297) /content/samplevideo.mp4: 384x640 (no detections), 14.3ms\n",
            "video 1/1 (148/297) /content/samplevideo.mp4: 384x640 1 ambulance, 14.2ms\n",
            "video 1/1 (149/297) /content/samplevideo.mp4: 384x640 (no detections), 13.7ms\n",
            "video 1/1 (150/297) /content/samplevideo.mp4: 384x640 (no detections), 13.7ms\n",
            "video 1/1 (151/297) /content/samplevideo.mp4: 384x640 1 ambulance, 13.7ms\n",
            "video 1/1 (152/297) /content/samplevideo.mp4: 384x640 1 ambulance, 13.5ms\n",
            "video 1/1 (153/297) /content/samplevideo.mp4: 384x640 1 ambulance, 13.5ms\n",
            "video 1/1 (154/297) /content/samplevideo.mp4: 384x640 1 ambulance, 13.5ms\n",
            "video 1/1 (155/297) /content/samplevideo.mp4: 384x640 1 ambulance, 13.5ms\n",
            "video 1/1 (156/297) /content/samplevideo.mp4: 384x640 1 ambulance, 13.5ms\n",
            "video 1/1 (157/297) /content/samplevideo.mp4: 384x640 1 ambulance, 14.5ms\n",
            "video 1/1 (158/297) /content/samplevideo.mp4: 384x640 1 ambulance, 13.5ms\n",
            "video 1/1 (159/297) /content/samplevideo.mp4: 384x640 1 ambulance, 13.5ms\n",
            "video 1/1 (160/297) /content/samplevideo.mp4: 384x640 1 ambulance, 14.4ms\n",
            "video 1/1 (161/297) /content/samplevideo.mp4: 384x640 1 ambulance, 13.6ms\n",
            "video 1/1 (162/297) /content/samplevideo.mp4: 384x640 1 ambulance, 13.5ms\n",
            "video 1/1 (163/297) /content/samplevideo.mp4: 384x640 1 ambulance, 13.5ms\n",
            "video 1/1 (164/297) /content/samplevideo.mp4: 384x640 1 ambulance, 13.5ms\n",
            "video 1/1 (165/297) /content/samplevideo.mp4: 384x640 1 ambulance, 13.5ms\n",
            "video 1/1 (166/297) /content/samplevideo.mp4: 384x640 1 ambulance, 13.5ms\n",
            "video 1/1 (167/297) /content/samplevideo.mp4: 384x640 1 ambulance, 13.5ms\n",
            "video 1/1 (168/297) /content/samplevideo.mp4: 384x640 1 ambulance, 13.5ms\n",
            "video 1/1 (169/297) /content/samplevideo.mp4: 384x640 1 ambulance, 13.5ms\n",
            "video 1/1 (170/297) /content/samplevideo.mp4: 384x640 1 ambulance, 13.6ms\n",
            "video 1/1 (171/297) /content/samplevideo.mp4: 384x640 1 ambulance, 13.5ms\n",
            "video 1/1 (172/297) /content/samplevideo.mp4: 384x640 1 ambulance, 13.5ms\n",
            "video 1/1 (173/297) /content/samplevideo.mp4: 384x640 1 ambulance, 13.5ms\n",
            "video 1/1 (174/297) /content/samplevideo.mp4: 384x640 1 ambulance, 13.5ms\n",
            "video 1/1 (175/297) /content/samplevideo.mp4: 384x640 1 ambulance, 13.5ms\n",
            "video 1/1 (176/297) /content/samplevideo.mp4: 384x640 1 ambulance, 13.5ms\n",
            "video 1/1 (177/297) /content/samplevideo.mp4: 384x640 1 ambulance, 13.2ms\n",
            "video 1/1 (178/297) /content/samplevideo.mp4: 384x640 1 ambulance, 13.3ms\n",
            "video 1/1 (179/297) /content/samplevideo.mp4: 384x640 1 ambulance, 13.2ms\n",
            "video 1/1 (180/297) /content/samplevideo.mp4: 384x640 1 ambulance, 13.5ms\n",
            "video 1/1 (181/297) /content/samplevideo.mp4: 384x640 1 ambulance, 13.2ms\n",
            "video 1/1 (182/297) /content/samplevideo.mp4: 384x640 1 ambulance, 13.2ms\n",
            "video 1/1 (183/297) /content/samplevideo.mp4: 384x640 1 ambulance, 13.2ms\n",
            "video 1/1 (184/297) /content/samplevideo.mp4: 384x640 1 ambulance, 13.2ms\n",
            "video 1/1 (185/297) /content/samplevideo.mp4: 384x640 1 ambulance, 13.2ms\n",
            "video 1/1 (186/297) /content/samplevideo.mp4: 384x640 1 ambulance, 13.2ms\n",
            "video 1/1 (187/297) /content/samplevideo.mp4: 384x640 1 ambulance, 13.2ms\n",
            "video 1/1 (188/297) /content/samplevideo.mp4: 384x640 1 ambulance, 13.2ms\n",
            "video 1/1 (189/297) /content/samplevideo.mp4: 384x640 1 ambulance, 13.2ms\n",
            "video 1/1 (190/297) /content/samplevideo.mp4: 384x640 1 ambulance, 13.2ms\n",
            "video 1/1 (191/297) /content/samplevideo.mp4: 384x640 1 ambulance, 13.2ms\n",
            "video 1/1 (192/297) /content/samplevideo.mp4: 384x640 1 ambulance, 13.2ms\n",
            "video 1/1 (193/297) /content/samplevideo.mp4: 384x640 1 ambulance, 13.2ms\n",
            "video 1/1 (194/297) /content/samplevideo.mp4: 384x640 1 ambulance, 13.2ms\n",
            "video 1/1 (195/297) /content/samplevideo.mp4: 384x640 1 ambulance, 13.2ms\n",
            "video 1/1 (196/297) /content/samplevideo.mp4: 384x640 1 ambulance, 13.2ms\n",
            "video 1/1 (197/297) /content/samplevideo.mp4: 384x640 1 ambulance, 13.2ms\n",
            "video 1/1 (198/297) /content/samplevideo.mp4: 384x640 1 ambulance, 13.2ms\n",
            "video 1/1 (199/297) /content/samplevideo.mp4: 384x640 1 ambulance, 13.2ms\n",
            "video 1/1 (200/297) /content/samplevideo.mp4: 384x640 2 ambulances, 13.2ms\n",
            "video 1/1 (201/297) /content/samplevideo.mp4: 384x640 2 ambulances, 13.2ms\n",
            "video 1/1 (202/297) /content/samplevideo.mp4: 384x640 2 ambulances, 13.2ms\n",
            "video 1/1 (203/297) /content/samplevideo.mp4: 384x640 2 ambulances, 13.2ms\n",
            "video 1/1 (204/297) /content/samplevideo.mp4: 384x640 2 ambulances, 13.2ms\n",
            "video 1/1 (205/297) /content/samplevideo.mp4: 384x640 1 ambulance, 13.2ms\n",
            "video 1/1 (206/297) /content/samplevideo.mp4: 384x640 2 ambulances, 13.1ms\n",
            "video 1/1 (207/297) /content/samplevideo.mp4: 384x640 1 ambulance, 13.2ms\n",
            "video 1/1 (208/297) /content/samplevideo.mp4: 384x640 1 ambulance, 13.2ms\n",
            "video 1/1 (209/297) /content/samplevideo.mp4: 384x640 1 ambulance, 13.2ms\n",
            "video 1/1 (210/297) /content/samplevideo.mp4: 384x640 1 ambulance, 13.2ms\n",
            "video 1/1 (211/297) /content/samplevideo.mp4: 384x640 1 ambulance, 13.2ms\n",
            "video 1/1 (212/297) /content/samplevideo.mp4: 384x640 1 ambulance, 13.2ms\n",
            "video 1/1 (213/297) /content/samplevideo.mp4: 384x640 1 ambulance, 16.3ms\n",
            "video 1/1 (214/297) /content/samplevideo.mp4: 384x640 1 ambulance, 13.2ms\n",
            "video 1/1 (215/297) /content/samplevideo.mp4: 384x640 1 ambulance, 13.1ms\n",
            "video 1/1 (216/297) /content/samplevideo.mp4: 384x640 1 ambulance, 13.2ms\n",
            "video 1/1 (217/297) /content/samplevideo.mp4: 384x640 1 ambulance, 13.2ms\n",
            "video 1/1 (218/297) /content/samplevideo.mp4: 384x640 1 ambulance, 13.2ms\n",
            "video 1/1 (219/297) /content/samplevideo.mp4: 384x640 1 ambulance, 13.1ms\n",
            "video 1/1 (220/297) /content/samplevideo.mp4: 384x640 1 ambulance, 13.1ms\n",
            "video 1/1 (221/297) /content/samplevideo.mp4: 384x640 1 ambulance, 13.1ms\n",
            "video 1/1 (222/297) /content/samplevideo.mp4: 384x640 1 ambulance, 14.0ms\n",
            "video 1/1 (223/297) /content/samplevideo.mp4: 384x640 1 ambulance, 13.2ms\n",
            "video 1/1 (224/297) /content/samplevideo.mp4: 384x640 1 ambulance, 13.9ms\n",
            "video 1/1 (225/297) /content/samplevideo.mp4: 384x640 1 ambulance, 13.2ms\n",
            "video 1/1 (226/297) /content/samplevideo.mp4: 384x640 1 ambulance, 13.2ms\n",
            "video 1/1 (227/297) /content/samplevideo.mp4: 384x640 1 ambulance, 13.2ms\n",
            "video 1/1 (228/297) /content/samplevideo.mp4: 384x640 1 ambulance, 1 other, 13.8ms\n",
            "video 1/1 (229/297) /content/samplevideo.mp4: 384x640 1 ambulance, 1 other, 13.3ms\n",
            "video 1/1 (230/297) /content/samplevideo.mp4: 384x640 1 ambulance, 1 other, 13.2ms\n",
            "video 1/1 (231/297) /content/samplevideo.mp4: 384x640 1 ambulance, 1 other, 13.3ms\n",
            "video 1/1 (232/297) /content/samplevideo.mp4: 384x640 1 ambulance, 1 other, 13.3ms\n",
            "video 1/1 (233/297) /content/samplevideo.mp4: 384x640 1 ambulance, 13.3ms\n",
            "video 1/1 (234/297) /content/samplevideo.mp4: 384x640 1 ambulance, 1 other, 13.2ms\n",
            "video 1/1 (235/297) /content/samplevideo.mp4: 384x640 1 ambulance, 1 other, 13.2ms\n",
            "video 1/1 (236/297) /content/samplevideo.mp4: 384x640 1 ambulance, 1 other, 13.2ms\n",
            "video 1/1 (237/297) /content/samplevideo.mp4: 384x640 1 ambulance, 1 other, 13.2ms\n",
            "video 1/1 (238/297) /content/samplevideo.mp4: 384x640 1 ambulance, 1 other, 13.2ms\n",
            "video 1/1 (239/297) /content/samplevideo.mp4: 384x640 1 ambulance, 1 other, 13.2ms\n",
            "video 1/1 (240/297) /content/samplevideo.mp4: 384x640 1 ambulance, 1 other, 13.2ms\n",
            "video 1/1 (241/297) /content/samplevideo.mp4: 384x640 1 ambulance, 1 other, 13.2ms\n",
            "video 1/1 (242/297) /content/samplevideo.mp4: 384x640 1 ambulance, 1 other, 13.6ms\n",
            "video 1/1 (243/297) /content/samplevideo.mp4: 384x640 1 ambulance, 1 other, 13.5ms\n",
            "video 1/1 (244/297) /content/samplevideo.mp4: 384x640 1 ambulance, 1 other, 13.5ms\n",
            "video 1/1 (245/297) /content/samplevideo.mp4: 384x640 1 ambulance, 1 other, 13.3ms\n",
            "video 1/1 (246/297) /content/samplevideo.mp4: 384x640 1 ambulance, 1 other, 13.4ms\n",
            "video 1/1 (247/297) /content/samplevideo.mp4: 384x640 1 ambulance, 1 other, 13.7ms\n",
            "video 1/1 (248/297) /content/samplevideo.mp4: 384x640 1 ambulance, 1 other, 13.7ms\n",
            "video 1/1 (249/297) /content/samplevideo.mp4: 384x640 1 ambulance, 1 other, 13.7ms\n",
            "video 1/1 (250/297) /content/samplevideo.mp4: 384x640 1 ambulance, 1 other, 13.5ms\n",
            "video 1/1 (251/297) /content/samplevideo.mp4: 384x640 1 ambulance, 1 other, 13.5ms\n",
            "video 1/1 (252/297) /content/samplevideo.mp4: 384x640 1 ambulance, 1 other, 13.5ms\n",
            "video 1/1 (253/297) /content/samplevideo.mp4: 384x640 1 ambulance, 1 other, 13.5ms\n",
            "video 1/1 (254/297) /content/samplevideo.mp4: 384x640 1 ambulance, 1 other, 13.5ms\n",
            "video 1/1 (255/297) /content/samplevideo.mp4: 384x640 1 ambulance, 1 other, 13.5ms\n",
            "video 1/1 (256/297) /content/samplevideo.mp4: 384x640 1 ambulance, 1 other, 13.5ms\n",
            "video 1/1 (257/297) /content/samplevideo.mp4: 384x640 1 ambulance, 1 other, 13.5ms\n",
            "video 1/1 (258/297) /content/samplevideo.mp4: 384x640 1 ambulance, 1 other, 13.5ms\n",
            "video 1/1 (259/297) /content/samplevideo.mp4: 384x640 1 ambulance, 1 other, 13.5ms\n",
            "video 1/1 (260/297) /content/samplevideo.mp4: 384x640 1 ambulance, 1 other, 13.5ms\n",
            "video 1/1 (261/297) /content/samplevideo.mp4: 384x640 1 ambulance, 13.5ms\n",
            "video 1/1 (262/297) /content/samplevideo.mp4: 384x640 1 ambulance, 13.5ms\n",
            "video 1/1 (263/297) /content/samplevideo.mp4: 384x640 1 ambulance, 1 other, 13.9ms\n",
            "video 1/1 (264/297) /content/samplevideo.mp4: 384x640 1 ambulance, 13.9ms\n",
            "video 1/1 (265/297) /content/samplevideo.mp4: 384x640 1 ambulance, 13.9ms\n",
            "video 1/1 (266/297) /content/samplevideo.mp4: 384x640 1 ambulance, 13.6ms\n",
            "video 1/1 (267/297) /content/samplevideo.mp4: 384x640 1 ambulance, 13.6ms\n",
            "video 1/1 (268/297) /content/samplevideo.mp4: 384x640 1 ambulance, 17.3ms\n",
            "video 1/1 (269/297) /content/samplevideo.mp4: 384x640 1 ambulance, 13.9ms\n",
            "video 1/1 (270/297) /content/samplevideo.mp4: 384x640 1 ambulance, 13.9ms\n",
            "video 1/1 (271/297) /content/samplevideo.mp4: 384x640 1 ambulance, 13.7ms\n",
            "video 1/1 (272/297) /content/samplevideo.mp4: 384x640 1 ambulance, 13.7ms\n",
            "video 1/1 (273/297) /content/samplevideo.mp4: 384x640 1 ambulance, 14.1ms\n",
            "video 1/1 (274/297) /content/samplevideo.mp4: 384x640 1 ambulance, 14.1ms\n",
            "video 1/1 (275/297) /content/samplevideo.mp4: 384x640 1 ambulance, 1 other, 14.1ms\n",
            "video 1/1 (276/297) /content/samplevideo.mp4: 384x640 1 ambulance, 1 other, 13.9ms\n",
            "video 1/1 (277/297) /content/samplevideo.mp4: 384x640 1 ambulance, 1 other, 13.9ms\n",
            "video 1/1 (278/297) /content/samplevideo.mp4: 384x640 1 ambulance, 1 other, 13.9ms\n",
            "video 1/1 (279/297) /content/samplevideo.mp4: 384x640 1 ambulance, 1 other, 14.0ms\n",
            "video 1/1 (280/297) /content/samplevideo.mp4: 384x640 1 ambulance, 1 other, 13.9ms\n",
            "video 1/1 (281/297) /content/samplevideo.mp4: 384x640 1 ambulance, 1 other, 13.9ms\n",
            "video 1/1 (282/297) /content/samplevideo.mp4: 384x640 1 ambulance, 1 other, 13.9ms\n",
            "video 1/1 (283/297) /content/samplevideo.mp4: 384x640 1 ambulance, 1 other, 14.0ms\n",
            "video 1/1 (284/297) /content/samplevideo.mp4: 384x640 1 ambulance, 1 other, 14.2ms\n",
            "video 1/1 (285/297) /content/samplevideo.mp4: 384x640 1 ambulance, 1 other, 14.2ms\n",
            "video 1/1 (286/297) /content/samplevideo.mp4: 384x640 1 ambulance, 1 other, 14.0ms\n",
            "video 1/1 (287/297) /content/samplevideo.mp4: 384x640 1 ambulance, 1 other, 14.1ms\n",
            "video 1/1 (288/297) /content/samplevideo.mp4: 384x640 1 ambulance, 1 other, 14.1ms\n",
            "video 1/1 (289/297) /content/samplevideo.mp4: 384x640 1 ambulance, 1 other, 14.1ms\n",
            "video 1/1 (290/297) /content/samplevideo.mp4: 384x640 1 ambulance, 1 other, 14.1ms\n",
            "video 1/1 (291/297) /content/samplevideo.mp4: 384x640 1 ambulance, 1 other, 13.9ms\n",
            "video 1/1 (292/297) /content/samplevideo.mp4: 384x640 1 ambulance, 1 other, 13.9ms\n",
            "video 1/1 (293/297) /content/samplevideo.mp4: 384x640 1 ambulance, 1 other, 13.9ms\n",
            "video 1/1 (294/297) /content/samplevideo.mp4: 384x640 1 ambulance, 1 other, 13.9ms\n",
            "video 1/1 (295/297) /content/samplevideo.mp4: 384x640 1 ambulance, 13.9ms\n",
            "video 1/1 (296/297) /content/samplevideo.mp4: 384x640 1 ambulance, 13.8ms\n",
            "video 1/1 (297/297) /content/samplevideo.mp4: 384x640 1 ambulance, 13.9ms\n",
            "Speed: 2.0ms preprocess, 15.5ms inference, 4.6ms postprocess per image at shape (1, 3, 384, 640)\n",
            "Results saved to \u001b[1mruns/detect/predict\u001b[0m\n",
            "252 labels saved to runs/detect/predict/labels\n",
            "💡 Learn more at https://docs.ultralytics.com/modes/predict\n"
          ]
        }
      ]
    },
    {
      "cell_type": "code",
      "source": [
        "!scp -r /content/runs/detect/predict/samplevideo.avi '/content/gdrive/MyDrive/SATS/Dataset/image_dataset'"
      ],
      "metadata": {
        "id": "znoXgSYkiE6F"
      },
      "execution_count": null,
      "outputs": []
    }
  ]
}